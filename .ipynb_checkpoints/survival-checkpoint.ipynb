{
 "cells": [
  {
   "cell_type": "code",
   "execution_count": 35,
   "metadata": {},
   "outputs": [],
   "source": [
    "# libraries ----------------------------------------------------\n",
    "\n",
    "library('GGally')\n",
    "library('survminer')\n",
    "library('Rtsne')\n",
    "library('survival')\n",
    "library('gridExtra')\n",
    "library('coxme')"
   ]
  },
  {
   "cell_type": "code",
   "execution_count": 3,
   "metadata": {},
   "outputs": [
    {
     "data": {
      "text/plain": [
       "[1] ‘0.3.1’"
      ]
     },
     "metadata": {},
     "output_type": "display_data"
    },
    {
     "data": {
      "text/plain": [
       "[1] ‘3.1.12’"
      ]
     },
     "metadata": {},
     "output_type": "display_data"
    }
   ],
   "source": [
    "packageVersion(\"survminer\")\n",
    "packageVersion(\"survival\")"
   ]
  },
  {
   "cell_type": "code",
   "execution_count": 32,
   "metadata": {},
   "outputs": [],
   "source": [
    "# Import data and factor the categorical columns\n",
    "df_vis_byID <- read.csv('data/csv_df_vis_by_ID.csv')\n",
    "featureColumns <- unlist(lapply(read.csv('data/csv_featureColumns.csv', header=FALSE)[[2]], as.character))\n",
    "multipleCateg <- unlist(lapply(read.csv('data/csv_multipleCateg.csv', header=FALSE)[[2]], as.character))\n",
    "categ <- unlist(lapply(read.csv('data/csv_categ.csv', header=FALSE)[[2]], as.character))\n",
    "binaryCateg <- categ[!(categ %in% multipleCateg)]\n",
    "df_vis_byID[, categ] <- lapply(df_vis_byID[, categ], factor)\n",
    "\n",
    "# Add months since first visit \n",
    "df_vis_byID['months_since_1st_visit'] <- round(df_vis_byID['days_since_1st_visit']/30.42)\n",
    "\n",
    "# Revised adjustment\n",
    "df_vis_byID[df_vis_byID$summary_id=='PWA13-0570', 'trailsbminusa'] <- 95\n",
    "\n",
    "# df_vis_byID <- df_vis_byID[(df_vis_byID$visit %in% c(1, 2)), ]\n",
    "# remove those that have negative disease_duration_dx and those that were already demented in their 1st visit (becuase then we don't know when they actually got demented since PD diag)\n",
    "# df_vis_byID <- df_vis_byID[!df_vis_byID$disease_duration_dx %in% c(-803, -2), ]\n",
    "df_vis_byID <- df_vis_byID[!((df_vis_byID$visit==1) & (df_vis_byID$cognitive_status==2)), ]\n",
    "\n",
    "# df_vis_byID <- df_vis_byID[df_vis_byID$age > 50, ]\n",
    "df_surv <- df_vis_byID"
   ]
  },
  {
   "cell_type": "code",
   "execution_count": 180,
   "metadata": {},
   "outputs": [
    {
     "data": {
      "text/html": [
       "<ol class=list-inline>\n",
       "\t<li>1614</li>\n",
       "\t<li>54</li>\n",
       "</ol>\n"
      ],
      "text/latex": [
       "\\begin{enumerate*}\n",
       "\\item 1614\n",
       "\\item 54\n",
       "\\end{enumerate*}\n"
      ],
      "text/markdown": [
       "1. 1614\n",
       "2. 54\n",
       "\n",
       "\n"
      ],
      "text/plain": [
       "[1] 1614   54"
      ]
     },
     "metadata": {},
     "output_type": "display_data"
    }
   ],
   "source": [
    "dim(df_surv)"
   ]
  },
  {
   "cell_type": "code",
   "execution_count": 36,
   "metadata": {},
   "outputs": [
    {
     "name": "stdout",
     "output_type": "stream",
     "text": [
      "italic(\"P\") == 2.01 %*% \"10\"^-4\n"
     ]
    }
   ],
   "source": [
    "## Change 0 and 1 to 0, then 2 to 1\n",
    "df_surv['cognitive_0_2'] <- sapply(df_vis_byID[, 'cognitive_status'], function(x) if(x==1|x==0) {x=0} else {x=1})\n",
    "df_surv[['gender_GBA']] <- factor(paste0(as.character(df_surv$gender), as.character(df_surv$GBA_carrier)))\n",
    "\n",
    "timeScales <- c('agevisit')#, disease_duration_dx, 'months_since_1st_visit', 'agevisit') #disease_duration_onset_calculated\n",
    "genes <- c('GBA_carrier') # c('ApoE', 'ApoE2', 'ApoE3', 'ApoE4', 'GBA_carrier', 'gender', 'SNCA_rs356219', 'gender_GBA')#, 'APOE_E4')\n",
    "conditions <- expand.grid(timeScales, genes)\n",
    "\n",
    "# Export survival for each gene and type of time scale\n",
    "for (i in 1:nrow(conditions)) {\n",
    "    options(warn=-1)\n",
    "    #start\n",
    "    timeScale <- as.character(conditions[i, 1])\n",
    "    gene <- as.character(conditions[i, 2])\n",
    "    # fit cox model\n",
    "    res.cox <- coxph(as.formula(paste0('Surv(', timeScale, ', cognitive_0_2) ~ ', gene, ' + cluster(summary_id)')), data=df_surv)\n",
    "    # new data (just unique values)\n",
    "    new_df <- with(df_surv, data.frame(gene=sort(unique(df_surv[[gene]]))), columns=gene)\n",
    "    colnames(new_df) <- gene\n",
    "    \n",
    "    # fit survival to cox\n",
    "    fit <- survfit(res.cox, newdata=new_df)\n",
    "    pValue <- summary(res.cox)$sctest[3]\n",
    "    p <- plotSurv_cox(fit, df_surv, new_df, gene, timeScale, pValue)\n",
    "    p\n",
    "#     ggsave(file=paste0(\"figures/survivalPlots/revised/\", as.character(conditions[, 2]), \".pdf\"), width=3.6, height=3, dpi=500)\n",
    "    dev.off()\n",
    "}               \n",
    "p\n",
    "# survChi"
   ]
  },
  {
   "cell_type": "code",
   "execution_count": 37,
   "metadata": {},
   "outputs": [
    {
     "data": {
      "text/html": [
       "<strong>pvalue:</strong> 0.000228365185345285"
      ],
      "text/latex": [
       "\\textbf{pvalue:} 0.000228365185345285"
      ],
      "text/markdown": [
       "**pvalue:** 0.000228365185345285"
      ],
      "text/plain": [
       "      pvalue \n",
       "0.0002283652 "
      ]
     },
     "metadata": {},
     "output_type": "display_data"
    }
   ],
   "source": [
    "pValue"
   ]
  },
  {
   "cell_type": "code",
   "execution_count": 5,
   "metadata": {},
   "outputs": [],
   "source": [
    "# Define function for plotting cox survival plots\n",
    "\n",
    "plotSurv_cox <- function(fit, df_surv, new_df, gene, timeScale, pValue){\n",
    "    ########### Input ############\n",
    "    # fit = sirvfit object to a cox model\n",
    "    # df_surv = dataframe used for fitting cox model\n",
    "    # new_df = new data (either unique values for categorical or mean for continuos)\n",
    "    # gene = gene of interest\n",
    "    # timeScale = time scale of interest (disease duration, months since 1st, or age visit)\n",
    "    # pValue = p Value from the cox model\n",
    "    ########### Output ############\n",
    "    # a plot object (survival plot)\n",
    "    \n",
    "    # Assingning colors and labels for each time scale and gene type\n",
    "    m <- substr(pValue, 1, 4)\n",
    "    n <- substr(pValue, nchar(pValue)-2, nchar(pValue))\n",
    "    if (gene == 'GBA_carrier'){\n",
    "        legend.labs <- c('non-GBA', 'GBA')\n",
    "        palette <- c(\"#087e8b\", \"#e84855\")\n",
    "        pLabel <- bquote(italic(\"P\")==.(m) %*% '10' ^.(n))\n",
    "    } else if (gene == 'gender'){\n",
    "        legend.labs <- c('Female', 'Male')\n",
    "        palette <- c(\"#087e8b\", \"#e84855\")\n",
    "        pLabel <- bquote(italic(\"P\")==.(m) %*% '10' ^.(n))\n",
    "    } else if (gene == 'SNCA_rs356219'){\n",
    "        legend.labs <- c('AA', 'GA', 'GG')\n",
    "        palette <- c(\"#087e8b\", \"#f9dc5c\", \"#e84855\")\n",
    "        pLabel <- bquote(italic(\"P\")==.(round(pValue, 2)))\n",
    "    } else if (gene == 'gender_GBA'){\n",
    "        legend.labs <- c(\"F, non-GBA\", \"F, GBA\", \"M, non-GBA\", \"M, GBA\")\n",
    "        palette <- c(\"#087e8b\", \"#f9dc5c\", \"#9c9c9c\", \"#e84855\")\n",
    "        pLabel <- bquote(italic(\"P\")==.(m) %*% '10' ^.(n))\n",
    "    } else if (gene == 'APOE_E4'){\n",
    "        legend.labs <- c('non-APOE e4', 'APOE e4')\n",
    "        palette <- c(\"#087e8b\", \"#e84855\")\n",
    "        pLabel <- bquote(italic(\"P\")==.(round(pValue, 2)))\n",
    "    } else if (gene %in% c('ApoE2', 'ApoE3', 'ApoE4')){\n",
    "        legend.labs <- c('0', '1', '2')\n",
    "        palette <- c(\"#087e8b\", \"#9c9c9c\", \"#e84855\")\n",
    "        pLabel <- bquote(italic(\"P\")==.(round(pValue, 2)))\n",
    "    } else if (gene == 'ApoE'){\n",
    "        legend.labs <- c('e2,e2', 'e2,e3', 'e2,e4', 'e3,e3', 'e3,e4', 'e4,e4')\n",
    "        palette <- c(\"#087e8b\", \"#76dfef\", \"#9c9c9c\", \"#e84855\", 'orange', 'green')\n",
    "        pLabel <- bquote(italic(\"P\")==.(round(pValue, 2)))\n",
    "    }\n",
    "\n",
    "    if (timeScale == 'disease_duration_onset_calculated'){\n",
    "        xlab <- \"Years since PD onset\"\n",
    "        xLabelPosition <- 8\n",
    "        xRange <- c(min(df_surv$disease_duration_onset_calculated), max(df_surv$disease_duration_onset_calculated))\n",
    "        breakRange <- 5\n",
    "    } else if (timeScale == 'agevisit'){\n",
    "        xlab <- \"Age at visit\"\n",
    "        xLabelPosition <- 51\n",
    "        xRange <- c(min(df_surv$agevisit), max(df_surv$agevisit))\n",
    "        breakRange <- 10\n",
    "    } else if (timeScale == 'months_since_1st_visit'){\n",
    "        xlab <- \"Months since first visit\"\n",
    "        xLabelPosition <- 15\n",
    "        xRange <- c(min(df_surv$months_since_1st_visit), max(df_surv$months_since_1st_visit))\n",
    "        breakRange <- 10\n",
    "    }\n",
    "    \n",
    "    # Plotting out survival plots\n",
    "    options(repr.plot.width=5, repr.plot.height=4)\n",
    "    p <- ggsurvplot(\n",
    "       fit,                          # survfit object with calculated statistics.\n",
    "       data = df_surv,               # data used to fit survival curves. \n",
    "       risk.table = FALSE,            # show risk table.\n",
    "       palette = palette,\n",
    "       pval = FALSE,                 # show p-value of log-rank test.\n",
    "       conf.int = TRUE,              # show confidence intervals for \n",
    "       censor=FALSE,\n",
    "\n",
    "#        legend.labs = legend.labs,\n",
    "       xlab = xlab,\n",
    "       xlim = xRange,\n",
    "\n",
    "       ggtheme = theme_bw(),         # customize plot and risk table with a theme.\n",
    "       risk.table.y.text.col = FALSE, # colour risk table text annotations.\n",
    "       break.time.by = breakRange,\n",
    "       surv.median.line = \"hv\",      # add the median survival pointer.\n",
    "       font.x = c(10),\n",
    "       font.y = c(10),\n",
    "       font.tickslab = c(10)\n",
    "    )\n",
    "    print(pLabel)\n",
    "#     p$plot <- p$plot + ggplot2::geom_text(x=20, y=0.25, label=pLabel)\n",
    "#     p$plot <- p$plot + ggplot2::geom_text(x=xLabelPosition, y=0.2, size=3.8, label=pLabel)\n",
    "    return(p)\n",
    "}"
   ]
  }
 ],
 "metadata": {
  "kernelspec": {
   "display_name": "R",
   "language": "R",
   "name": "ir"
  },
  "language_info": {
   "codemirror_mode": "r",
   "file_extension": ".r",
   "mimetype": "text/x-r-source",
   "name": "R",
   "pygments_lexer": "r",
   "version": "3.6.1"
  }
 },
 "nbformat": 4,
 "nbformat_minor": 4
}
