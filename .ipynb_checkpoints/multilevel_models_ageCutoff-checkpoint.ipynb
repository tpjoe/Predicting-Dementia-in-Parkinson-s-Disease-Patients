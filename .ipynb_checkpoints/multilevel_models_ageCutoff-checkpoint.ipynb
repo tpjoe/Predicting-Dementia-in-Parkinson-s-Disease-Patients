{
 "cells": [
  {
   "cell_type": "markdown",
   "metadata": {},
   "source": [
    "# Libraries"
   ]
  },
  {
   "cell_type": "code",
   "execution_count": 55,
   "metadata": {},
   "outputs": [],
   "source": [
    "# libraries ----------------------------------------------------\n",
    "# .libPaths(c('/home/tpjoe/R/x86_64-pc-linux-gnu-library/3.5', '/usr/local/lib/R/site-library', '/usr/lib/R/site-library', '/usr/lib/R/library'))\n",
    "# setwd('/home/tpjoe/tpjoe@stanford.edu/project_Udall2/')\n",
    "\n",
    "# Attach some packages\n",
    "library('groupdata2')\n",
    "library('dplyr')\n",
    "library('ggplot2')\n",
    "library('ggpubr')\n",
    "library(\"ggcorrplot\")\n",
    "library('onehot')\n",
    "library('multiROC')\n",
    "library('progress')\n",
    "library('psych') # logit and loistic\n",
    "library(\"gridExtra\")\n",
    "library('reshape')\n",
    "library('stats')\n",
    "library('car')\n",
    "library('vcrpart')\n",
    "library('GGally')\n",
    "library('repr')\n",
    "\n",
    "library('lmerTest')\n",
    "library('ordinal')\n",
    "options(repr.matrix.max.cols=50, repr.matrix.max.rows=200)\n",
    "\n",
    "library('foreach')\n",
    "library('doParallel')\n",
    "registerDoParallel(40)\n",
    "\n",
    "source('scripts/crossvalidateOrdinal.R')"
   ]
  },
  {
   "cell_type": "code",
   "execution_count": 56,
   "metadata": {},
   "outputs": [
    {
     "data": {
      "text/html": [
       "'/home/tpjoe/tpjoe@stanford.edu/project_Udall2/UDALL2_project'"
      ],
      "text/latex": [
       "'/home/tpjoe/tpjoe@stanford.edu/project\\_Udall2/UDALL2\\_project'"
      ],
      "text/markdown": [
       "'/home/tpjoe/tpjoe@stanford.edu/project_Udall2/UDALL2_project'"
      ],
      "text/plain": [
       "[1] \"/home/tpjoe/tpjoe@stanford.edu/project_Udall2/UDALL2_project\""
      ]
     },
     "metadata": {},
     "output_type": "display_data"
    }
   ],
   "source": [
    "getwd()"
   ]
  },
  {
   "cell_type": "markdown",
   "metadata": {},
   "source": [
    "# Import data"
   ]
  },
  {
   "cell_type": "code",
   "execution_count": 80,
   "metadata": {},
   "outputs": [],
   "source": [
    "# Import data and factor the categorical columns\n",
    "df_vis_byID <- read.csv('data/csv_df_vis_by_ID.csv')\n",
    "featureColumns <- unlist(lapply(read.csv('data/csv_featureColumns.csv', header=FALSE)[[2]], as.character))\n",
    "multipleCateg <- unlist(lapply(read.csv('data/csv_multipleCateg.csv', header=FALSE)[[2]], as.character))\n",
    "categ <- unlist(lapply(read.csv('data/csv_categ.csv', header=FALSE)[[2]], as.character))\n",
    "binaryCateg <- categ[!(categ %in% multipleCateg)]\n",
    "\n",
    "# Revised adjustment\n",
    "df_vis_byID[df_vis_byID$summary_id=='PWA13-0570', 'trailsbminusa'] <- 95\n",
    "\n",
    "numericColumns <- featureColumns[!featureColumns %in% categ]\n",
    "df_vis_byID[, categ] <- lapply(df_vis_byID[, categ], factor)\n",
    "\n",
    "# Add months since first visit \n",
    "df_vis_byID['months_since_1st_visit'] <- round(df_vis_byID['days_since_1st_visit']/30.42)\n",
    "# df_vis_byID <- df_vis_byID[!df_vis_byID$disease_duration_dx %in% c(-803, -2), ]\n",
    "\n",
    "psychTest <- c('animals', 'letter_fluency', 'hvlt_total_recall', 'hvlt_RDI', 'hvlt_trial4_correct', 'jolo_total_correct', 'wais_digit_symbol_score', \n",
    "                'letter_number_sequencing_total', 'trailsbminusa', 'moca_score_unadjusted')"
   ]
  },
  {
   "cell_type": "code",
   "execution_count": 74,
   "metadata": {},
   "outputs": [],
   "source": [
    "# df_vis_byID <- df_vis_byID[df_vis_byID$age>50, ]\n",
    "df_vis_byID <- df_vis_byID[df_vis_byID$moca_score_unadjusted>10, ]"
   ]
  },
  {
   "cell_type": "markdown",
   "metadata": {
    "toc-hr-collapsed": true
   },
   "source": [
    "# Section I (ordinal as a function of biological traits)"
   ]
  },
  {
   "cell_type": "markdown",
   "metadata": {},
   "source": [
    "## Inspect multicollinearity"
   ]
  },
  {
   "cell_type": "code",
   "execution_count": 17,
   "metadata": {},
   "outputs": [
    {
     "data": {
      "text/html": [
       "<table>\n",
       "<caption>A matrix: 8 × 3 of type dbl</caption>\n",
       "<thead>\n",
       "\t<tr><th></th><th scope=col>GVIF</th><th scope=col>Df</th><th scope=col>GVIF^(1/(2*Df))</th></tr>\n",
       "</thead>\n",
       "<tbody>\n",
       "\t<tr><th scope=row>scale(agevisit)</th><td>1.023523</td><td>1</td><td>1.011693</td></tr>\n",
       "\t<tr><th scope=row>GBA_carrier</th><td>1.026091</td><td>1</td><td>1.012961</td></tr>\n",
       "\t<tr><th scope=row>APOE_E4</th><td>1.012073</td><td>1</td><td>1.006018</td></tr>\n",
       "\t<tr><th scope=row>LRRK2_carrier</th><td>1.009255</td><td>1</td><td>1.004617</td></tr>\n",
       "\t<tr><th scope=row>MAPT</th><td>1.022010</td><td>1</td><td>1.010945</td></tr>\n",
       "\t<tr><th scope=row>SNCA_rs356219</th><td>1.029342</td><td>2</td><td>1.007256</td></tr>\n",
       "\t<tr><th scope=row>gender</th><td>1.027115</td><td>1</td><td>1.013467</td></tr>\n",
       "\t<tr><th scope=row>scale(disease_duration_onset_calculated)</th><td>1.012399</td><td>1</td><td>1.006180</td></tr>\n",
       "</tbody>\n",
       "</table>\n"
      ],
      "text/latex": [
       "A matrix: 8 × 3 of type dbl\n",
       "\\begin{tabular}{r|lll}\n",
       "  & GVIF & Df & GVIF\\textasciicircum{}(1/(2*Df))\\\\\n",
       "\\hline\n",
       "\tscale(agevisit) & 1.023523 & 1 & 1.011693\\\\\n",
       "\tGBA\\_carrier & 1.026091 & 1 & 1.012961\\\\\n",
       "\tAPOE\\_E4 & 1.012073 & 1 & 1.006018\\\\\n",
       "\tLRRK2\\_carrier & 1.009255 & 1 & 1.004617\\\\\n",
       "\tMAPT & 1.022010 & 1 & 1.010945\\\\\n",
       "\tSNCA\\_rs356219 & 1.029342 & 2 & 1.007256\\\\\n",
       "\tgender & 1.027115 & 1 & 1.013467\\\\\n",
       "\tscale(disease\\_duration\\_onset\\_calculated) & 1.012399 & 1 & 1.006180\\\\\n",
       "\\end{tabular}\n"
      ],
      "text/markdown": [
       "\n",
       "A matrix: 8 × 3 of type dbl\n",
       "\n",
       "| <!--/--> | GVIF | Df | GVIF^(1/(2*Df)) |\n",
       "|---|---|---|---|\n",
       "| scale(agevisit) | 1.023523 | 1 | 1.011693 |\n",
       "| GBA_carrier | 1.026091 | 1 | 1.012961 |\n",
       "| APOE_E4 | 1.012073 | 1 | 1.006018 |\n",
       "| LRRK2_carrier | 1.009255 | 1 | 1.004617 |\n",
       "| MAPT | 1.022010 | 1 | 1.010945 |\n",
       "| SNCA_rs356219 | 1.029342 | 2 | 1.007256 |\n",
       "| gender | 1.027115 | 1 | 1.013467 |\n",
       "| scale(disease_duration_onset_calculated) | 1.012399 | 1 | 1.006180 |\n",
       "\n"
      ],
      "text/plain": [
       "                                         GVIF     Df GVIF^(1/(2*Df))\n",
       "scale(agevisit)                          1.023523 1  1.011693       \n",
       "GBA_carrier                              1.026091 1  1.012961       \n",
       "APOE_E4                                  1.012073 1  1.006018       \n",
       "LRRK2_carrier                            1.009255 1  1.004617       \n",
       "MAPT                                     1.022010 1  1.010945       \n",
       "SNCA_rs356219                            1.029342 2  1.007256       \n",
       "gender                                   1.027115 1  1.013467       \n",
       "scale(disease_duration_onset_calculated) 1.012399 1  1.006180       "
      ]
     },
     "metadata": {},
     "output_type": "display_data"
    }
   ],
   "source": [
    "vif(glm(cognitive_status ~ scale(agevisit) + GBA_carrier + APOE_E4 + LRRK2_carrier + MAPT + SNCA_rs356219 + gender + scale(disease_duration_onset_calculated), data = as.data.frame(df_vis_byID)))"
   ]
  },
  {
   "cell_type": "code",
   "execution_count": 1,
   "metadata": {},
   "outputs": [
    {
     "ename": "ERROR",
     "evalue": "Error in eval(expr, envir, enclos): object 'df_vis_byID' not found\n",
     "output_type": "error",
     "traceback": [
      "Error in eval(expr, envir, enclos): object 'df_vis_byID' not found\nTraceback:\n"
     ]
    }
   ],
   "source": [
    "aa <- df_vis_byID[, c('agevisit', 'GBA_carrier', 'APOE_E4', 'LRRK2_carrier', 'MAPT', 'SNCA_rs356219', 'gender')]\n",
    "aa <- apply(aa, 2, as.numeric)\n",
    "options(repr.plot.width=4, repr.plot.height=3)\n",
    "ggcorrplot(cor(aa))"
   ]
  },
  {
   "cell_type": "markdown",
   "metadata": {},
   "source": [
    "## Cross-validations"
   ]
  },
  {
   "cell_type": "code",
   "execution_count": 86,
   "metadata": {},
   "outputs": [],
   "source": [
    "# set.seed(5) # For reproducibility\n",
    "\n",
    "# Split data in 25/75 (percentage)\n",
    "parts <- partition(df_vis_byID, p=0.25, id_col = \"summary_id\")#, numcol='years_since_1st_visit', num_col='visit')\n",
    "\n",
    "test_set <- parts[[1]][, c('summary_id', featureColumns, 'cognitive_status')]\n",
    "train_set <- parts[[2]][, c('summary_id', featureColumns, 'cognitive_status')]"
   ]
  },
  {
   "cell_type": "code",
   "execution_count": 75,
   "metadata": {},
   "outputs": [],
   "source": [
    "# Scaling the data\n",
    "df_scaled <- df_vis_byID\n",
    "feat <- c('education')\n",
    "df_scaled[, feat] <- sapply(df_scaled[, feat], as.numeric)\n",
    "df_scaled$agevisit_noscale <- df_scaled$agevisit"
   ]
  },
  {
   "cell_type": "code",
   "execution_count": 103,
   "metadata": {},
   "outputs": [],
   "source": [
    "# Separating to K fold from \"\"\" df_vis_byID \"\"\"\n",
    "\n",
    "# Starting\n",
    "niter <- 100\n",
    "dependent <- 'as.factor(cognitive_status)'\n",
    "fixes <- paste(dependent, \n",
    "               c(\n",
    "                 '~ agevisit + GBA_carrier + APOE_E4 + MAPT + gender + disease_duration_onset_calculated + education + site',\n",
    "                 '~ agevisit + GBA_carrier + APOE_E4 + MAPT + gender + disease_duration_onset_calculated'\n",
    "                 )\n",
    "          )\n",
    "\n",
    "randoms <- c('re(1 | summary_id)')#, 're(1 + months_since_1st_visit| summary_id)') #, 're(1 + agevisit | summary_id)')\n",
    "formulas <- cbind(rep(fixes, each=length(randoms)), rep(randoms, times=length(fixes)))\n",
    "\n",
    "for (a_row in 1:nrow(formulas)) {\n",
    "    \n",
    "    fixed <- formulas[a_row, 1]\n",
    "    random <- formulas[a_row, 2]\n",
    "    \n",
    "#     for (iter in 1:niter) {\n",
    "    outputs <- foreach (iter = 1:niter, .combine='comb', .multicombine=TRUE, .init=list(list(), list(), list(), list())) %dopar% {\n",
    "\n",
    "        set.seed(iter)\n",
    "        kfolds = 4\n",
    "        train_set <- fold(df_scaled, k = kfolds, id_col = 'summary_id', handle_existing_fold_cols = 'remove') #, cat_col='cognitive_status'\n",
    "        train_set$cognitive_status <- ordered(factor(train_set$cognitive_status))\n",
    "\n",
    "        # using OLMM for mixed effect models\n",
    "        result <- crossvalidateOrdinal(data = train_set, fixed = fixed, random = random, dependent = 'cognitive_status', family = 'adjacent()', modelType='olmm')\n",
    "        \n",
    "        list(mean(result[, 'macroAUCs_test']), median(result[, 'AUCs_0_test']), median(result[, 'AUCs_1_test']), median(result[, 'AUCs_2_test']))\n",
    "        }\n",
    "    outputDir <- paste0('rResults/section_I/', substr(formulas[a_row, 1], 31, 1000L), '_', gsub('\\\\|', 'by', formulas[a_row, 2]))\n",
    "    write.csv(outputs, file = paste0(outputDir, '.csv'))\n",
    "    saveRDS(outputs, file= paste0(outputDir, '.rds'))\n",
    "    }"
   ]
  },
  {
   "cell_type": "code",
   "execution_count": 100,
   "metadata": {},
   "outputs": [],
   "source": [
    "df_allResults <- list()\n",
    "\n",
    "for (file in list.files('rResults/section_I/', pattern='*.rds')){\n",
    "    result <- readRDS(paste0('rResults/section_I/', file))\n",
    "    df_results <- data.frame(matrix(unlist(result), nrow=length(result), byrow=T)) \n",
    "    rownames(df_results) <- c('macroAUC', 'AUC_0', 'AUC_1', 'AUC_2')\n",
    "    df_avg <- apply(df_results, 1, mean)\n",
    "    df_std <- apply(df_results, 1, sd)\n",
    "    df_results <- c(df_avg, df_std)\n",
    "    df_allResults <- cbind(df_allResults, df_results)\n",
    "}\n",
    "df_allResults <- t(df_allResults)\n",
    "rownames(df_allResults) <- list.files('rResults/section_I/', pattern='*.rds')"
   ]
  },
  {
   "cell_type": "code",
   "execution_count": 36,
   "metadata": {},
   "outputs": [],
   "source": [
    "# df_allResults"
   ]
  },
  {
   "cell_type": "markdown",
   "metadata": {},
   "source": [
    "## Plotting cross-validation results"
   ]
  },
  {
   "cell_type": "code",
   "execution_count": 83,
   "metadata": {},
   "outputs": [
    {
     "name": "stderr",
     "output_type": "stream",
     "text": [
      "Saving 6.67 x 6.67 in image\n",
      "Saving 6.67 x 6.67 in image\n",
      "Saving 6.67 x 6.67 in image\n",
      "Saving 6.67 x 6.67 in image\n",
      "Saving 6.67 x 6.67 in image\n",
      "Saving 6.67 x 6.67 in image\n",
      "Saving 6.67 x 6.67 in image\n",
      "Saving 6.67 x 6.67 in image\n",
      "Saving 6.67 x 6.67 in image\n",
      "Saving 6.67 x 6.67 in image\n",
      "Saving 6.67 x 6.67 in image\n",
      "Saving 6.67 x 6.67 in image\n"
     ]
    }
   ],
   "source": [
    "# Bar plots\n",
    "for (file in fileList) {\n",
    "    result <- readRDS(paste0('rResults/section_I/', file))\n",
    "    df_results <- t(data.frame(matrix(unlist(result), nrow=length(result), byrow = T)))\n",
    "    mean <- as.data.frame(apply(df_results, 2, mean))\n",
    "    sd <- as.data.frame(apply(df_results, 2, sd))\n",
    "    mean$names <- c('  Macro-averaged', '  PD-NCI', ' PD-MCI', 'PDD')\n",
    "    sd$names <- c('  Macro-averaged', '  PD-NCI', ' PD-MCI', 'PDD')\n",
    "    df_results <- merge(mean, sd, )\n",
    "    colnames(df_results) <- c('names', 'mean', 'sd')\n",
    "    \n",
    "    p <- ggplot(df_results, aes(x = names, y = mean)) + geom_bar(stat=\"identity\", fill=c('grey', '#087e8b', '#f9dc5c', '#e84855'), width = 0.6, color='black') + \n",
    "       theme_bw() + ylab(\"AUC\") + xlab(\"\") + theme(axis.text=element_text(size = 20), axis.title.y = element_text(size = 20)) +\n",
    "       geom_errorbar(aes(ymin = mean - sd, ymax = mean + sd), width=.2, position=position_dodge(.9)) +\n",
    "       scale_y_continuous(limits = c(0, 1), breaks = scales::pretty_breaks(n = 5)) + scale_x_discrete(labels=c('Avg. AUC', ' PD-NCI', ' PD-MCI', 'PDD'))\n",
    "    options(repr.plot.width=5, repr.plot.height=5)\n",
    "    ggsave(filename=paste0('figures/section_I/predictions/barPlot_', file, '.pdf'), plot=p)\n",
    "    }\n",
    "# p"
   ]
  },
  {
   "cell_type": "markdown",
   "metadata": {},
   "source": [
    "## Inspect p-value of multivariate models"
   ]
  },
  {
   "cell_type": "markdown",
   "metadata": {},
   "source": [
    "### All patients"
   ]
  },
  {
   "cell_type": "code",
   "execution_count": 78,
   "metadata": {},
   "outputs": [],
   "source": [
    "# Running the ordinal multi level model\n",
    "dependent <- 'as.factor(cognitive_status)'\n",
    "fixes <- paste(dependent, \n",
    "               c(\n",
    "#                '~ agevisit + GBA_carrier + APOE_E4 + LRRK2_carrier + MAPT + SNCA_rs356219 + gender + disease_duration_onset_calculated + education + site'\n",
    "               '~ agevisit + GBA_carrier + APOE_E4 + MAPT + gender + disease_duration_onset_calculated + education + site + led + gds_total'\n",
    "#                '~ agevisit + GBA_carrier + ApoE2 + ApoE4 + MAPT + gender + disease_duration_onset_calculated + education + site'\n",
    "               )\n",
    "          )\n",
    "\n",
    "randoms <- c('re(1 | summary_id)')#, 're(1 + days_since_1st_visit | summary_id)') #, 're(1 + agevisit | summary_id)')\n",
    "formulas <- cbind(rep(fixes, each=length(randoms)), rep(randoms, times=length(fixes)))\n",
    "pMat <- data.frame(names=NA)\n",
    "\n",
    "for (a_row in 1:nrow(formulas)) {\n",
    "    \n",
    "    fixed <- formulas[a_row, 1]\n",
    "    random <- formulas[a_row, 2]\n",
    "    mod_olmm <- olmm(as.formula(paste(fixed, '+', random)), data = df_scaled, family = cumulative(link='logit'))\n",
    "    summaries <- summary(mod_olmm)\n",
    "    pVal <- data.frame(names=names(summaries$feMatGe[, 'z value']), res=(2*pnorm(abs(summaries$feMatGe[, 'z value']), lower.tail=F)))\n",
    "    pMat <- merge(pMat, pVal, by = 'names', all = TRUE)\n",
    "\n",
    "}"
   ]
  },
  {
   "cell_type": "code",
   "execution_count": 79,
   "metadata": {},
   "outputs": [
    {
     "data": {
      "text/html": [
       "<table>\n",
       "<caption>A data.frame: 10 × 4</caption>\n",
       "<thead>\n",
       "\t<tr><th></th><th scope=col>V1</th><th scope=col>V2</th><th scope=col>V3</th><th scope=col>pMat[-nrow(pMat), 2]</th></tr>\n",
       "\t<tr><th></th><th scope=col>&lt;dbl&gt;</th><th scope=col>&lt;dbl&gt;</th><th scope=col>&lt;dbl&gt;</th><th scope=col>&lt;dbl&gt;</th></tr>\n",
       "</thead>\n",
       "<tbody>\n",
       "\t<tr><th scope=row>agevisit</th><td>-1.907076e-01</td><td>-0.2267111087</td><td>-0.1547041533</td><td>2.995356e-25</td></tr>\n",
       "\t<tr><th scope=row>APOE_E4</th><td>-2.247138e-01</td><td>-0.8498298645</td><td> 0.4004022248</td><td>4.810768e-01</td></tr>\n",
       "\t<tr><th scope=row>disease_duration_onset_calculated</th><td>-1.481332e-01</td><td>-0.1869133896</td><td>-0.1093530473</td><td>7.054925e-14</td></tr>\n",
       "\t<tr><th scope=row>education</th><td> 2.662051e-01</td><td> 0.1579868242</td><td> 0.3744232939</td><td>1.425640e-06</td></tr>\n",
       "\t<tr><th scope=row>GBA_carrier1</th><td>-2.707383e+00</td><td>-3.5010354679</td><td>-1.9137312302</td><td>2.291295e-11</td></tr>\n",
       "\t<tr><th scope=row>gds_total</th><td>-3.960637e-01</td><td>-0.5240445579</td><td>-0.2680828251</td><td>1.314358e-09</td></tr>\n",
       "\t<tr><th scope=row>gender1</th><td>-2.918242e+00</td><td>-3.5429433724</td><td>-2.2935411065</td><td>5.386367e-20</td></tr>\n",
       "\t<tr><th scope=row>led</th><td>-5.376197e-05</td><td>-0.0004595817</td><td> 0.0003520578</td><td>7.951293e-01</td></tr>\n",
       "\t<tr><th scope=row>MAPT1</th><td> 1.671222e-01</td><td>-0.4208743224</td><td> 0.7551187430</td><td>5.774746e-01</td></tr>\n",
       "\t<tr><th scope=row>site</th><td> 8.125465e-01</td><td> 0.2316272012</td><td> 1.3934657293</td><td>6.115907e-03</td></tr>\n",
       "</tbody>\n",
       "</table>\n"
      ],
      "text/latex": [
       "A data.frame: 10 × 4\n",
       "\\begin{tabular}{r|llll}\n",
       "  & V1 & V2 & V3 & pMat{[}-nrow(pMat), 2{]}\\\\\n",
       "  & <dbl> & <dbl> & <dbl> & <dbl>\\\\\n",
       "\\hline\n",
       "\tagevisit & -1.907076e-01 & -0.2267111087 & -0.1547041533 & 2.995356e-25\\\\\n",
       "\tAPOE\\_E4 & -2.247138e-01 & -0.8498298645 &  0.4004022248 & 4.810768e-01\\\\\n",
       "\tdisease\\_duration\\_onset\\_calculated & -1.481332e-01 & -0.1869133896 & -0.1093530473 & 7.054925e-14\\\\\n",
       "\teducation &  2.662051e-01 &  0.1579868242 &  0.3744232939 & 1.425640e-06\\\\\n",
       "\tGBA\\_carrier1 & -2.707383e+00 & -3.5010354679 & -1.9137312302 & 2.291295e-11\\\\\n",
       "\tgds\\_total & -3.960637e-01 & -0.5240445579 & -0.2680828251 & 1.314358e-09\\\\\n",
       "\tgender1 & -2.918242e+00 & -3.5429433724 & -2.2935411065 & 5.386367e-20\\\\\n",
       "\tled & -5.376197e-05 & -0.0004595817 &  0.0003520578 & 7.951293e-01\\\\\n",
       "\tMAPT1 &  1.671222e-01 & -0.4208743224 &  0.7551187430 & 5.774746e-01\\\\\n",
       "\tsite &  8.125465e-01 &  0.2316272012 &  1.3934657293 & 6.115907e-03\\\\\n",
       "\\end{tabular}\n"
      ],
      "text/markdown": [
       "\n",
       "A data.frame: 10 × 4\n",
       "\n",
       "| <!--/--> | V1 &lt;dbl&gt; | V2 &lt;dbl&gt; | V3 &lt;dbl&gt; | pMat[-nrow(pMat), 2] &lt;dbl&gt; |\n",
       "|---|---|---|---|---|\n",
       "| agevisit | -1.907076e-01 | -0.2267111087 | -0.1547041533 | 2.995356e-25 |\n",
       "| APOE_E4 | -2.247138e-01 | -0.8498298645 |  0.4004022248 | 4.810768e-01 |\n",
       "| disease_duration_onset_calculated | -1.481332e-01 | -0.1869133896 | -0.1093530473 | 7.054925e-14 |\n",
       "| education |  2.662051e-01 |  0.1579868242 |  0.3744232939 | 1.425640e-06 |\n",
       "| GBA_carrier1 | -2.707383e+00 | -3.5010354679 | -1.9137312302 | 2.291295e-11 |\n",
       "| gds_total | -3.960637e-01 | -0.5240445579 | -0.2680828251 | 1.314358e-09 |\n",
       "| gender1 | -2.918242e+00 | -3.5429433724 | -2.2935411065 | 5.386367e-20 |\n",
       "| led | -5.376197e-05 | -0.0004595817 |  0.0003520578 | 7.951293e-01 |\n",
       "| MAPT1 |  1.671222e-01 | -0.4208743224 |  0.7551187430 | 5.774746e-01 |\n",
       "| site |  8.125465e-01 |  0.2316272012 |  1.3934657293 | 6.115907e-03 |\n",
       "\n"
      ],
      "text/plain": [
       "                                  V1            V2            V3           \n",
       "agevisit                          -1.907076e-01 -0.2267111087 -0.1547041533\n",
       "APOE_E4                           -2.247138e-01 -0.8498298645  0.4004022248\n",
       "disease_duration_onset_calculated -1.481332e-01 -0.1869133896 -0.1093530473\n",
       "education                          2.662051e-01  0.1579868242  0.3744232939\n",
       "GBA_carrier1                      -2.707383e+00 -3.5010354679 -1.9137312302\n",
       "gds_total                         -3.960637e-01 -0.5240445579 -0.2680828251\n",
       "gender1                           -2.918242e+00 -3.5429433724 -2.2935411065\n",
       "led                               -5.376197e-05 -0.0004595817  0.0003520578\n",
       "MAPT1                              1.671222e-01 -0.4208743224  0.7551187430\n",
       "site                               8.125465e-01  0.2316272012  1.3934657293\n",
       "                                  pMat[-nrow(pMat), 2]\n",
       "agevisit                          2.995356e-25        \n",
       "APOE_E4                           4.810768e-01        \n",
       "disease_duration_onset_calculated 7.054925e-14        \n",
       "education                         1.425640e-06        \n",
       "GBA_carrier1                      2.291295e-11        \n",
       "gds_total                         1.314358e-09        \n",
       "gender1                           5.386367e-20        \n",
       "led                               7.951293e-01        \n",
       "MAPT1                             5.774746e-01        \n",
       "site                              6.115907e-03        "
      ]
     },
     "metadata": {},
     "output_type": "display_data"
    }
   ],
   "source": [
    "# Getting confidence interval\n",
    "aa <- summary(mod_olmm)\n",
    "conf <- aa$feMatGe[, 'Std. Error'] * 1.96\n",
    "aa <- as.data.frame(cbind(aa$feMatGe[, 'Estimate'], aa$feMatGe[, 'Estimate'] - conf, aa$feMatGe[, 'Estimate'] + conf))\n",
    "cbind(aa[sort(rownames(aa)), ], pMat[-nrow(pMat), 2])"
   ]
  },
  {
   "cell_type": "markdown",
   "metadata": {},
   "source": [
    "### Famale only"
   ]
  },
  {
   "cell_type": "code",
   "execution_count": 248,
   "metadata": {},
   "outputs": [
    {
     "data": {
      "text/html": [
       "<table>\n",
       "<thead><tr><th scope=col>names</th><th scope=col>res</th></tr></thead>\n",
       "<tbody>\n",
       "\t<tr><td>agevisit                         </td><td>4.519379e-06                     </td></tr>\n",
       "\t<tr><td>APOE_E41                         </td><td>6.050354e-01                     </td></tr>\n",
       "\t<tr><td>disease_duration_onset_calculated</td><td>1.647698e-03                     </td></tr>\n",
       "\t<tr><td>education                        </td><td>6.700518e-04                     </td></tr>\n",
       "\t<tr><td>GBA_carrier1                     </td><td>3.063754e-06                     </td></tr>\n",
       "\t<tr><td>LRRK2_carrier1                   </td><td>7.932969e-01                     </td></tr>\n",
       "\t<tr><td>MAPT1                            </td><td>7.372825e-01                     </td></tr>\n",
       "\t<tr><td>site                             </td><td>2.737215e-01                     </td></tr>\n",
       "\t<tr><td>SNCA_rs3562191                   </td><td>2.467895e-01                     </td></tr>\n",
       "\t<tr><td>SNCA_rs3562192                   </td><td>2.112471e-01                     </td></tr>\n",
       "\t<tr><td>NA                               </td><td>          NA                     </td></tr>\n",
       "</tbody>\n",
       "</table>\n"
      ],
      "text/latex": [
       "\\begin{tabular}{r|ll}\n",
       " names & res\\\\\n",
       "\\hline\n",
       "\t agevisit                          & 4.519379e-06                     \\\\\n",
       "\t APOE\\_E41                          & 6.050354e-01                       \\\\\n",
       "\t disease\\_duration\\_onset\\_calculated & 1.647698e-03                           \\\\\n",
       "\t education                         & 6.700518e-04                     \\\\\n",
       "\t GBA\\_carrier1                      & 3.063754e-06                       \\\\\n",
       "\t LRRK2\\_carrier1                    & 7.932969e-01                       \\\\\n",
       "\t MAPT1                             & 7.372825e-01                     \\\\\n",
       "\t site                              & 2.737215e-01                     \\\\\n",
       "\t SNCA\\_rs3562191                    & 2.467895e-01                       \\\\\n",
       "\t SNCA\\_rs3562192                    & 2.112471e-01                       \\\\\n",
       "\t NA                                &           NA                     \\\\\n",
       "\\end{tabular}\n"
      ],
      "text/markdown": [
       "\n",
       "| names | res |\n",
       "|---|---|\n",
       "| agevisit                          | 4.519379e-06                      |\n",
       "| APOE_E41                          | 6.050354e-01                      |\n",
       "| disease_duration_onset_calculated | 1.647698e-03                      |\n",
       "| education                         | 6.700518e-04                      |\n",
       "| GBA_carrier1                      | 3.063754e-06                      |\n",
       "| LRRK2_carrier1                    | 7.932969e-01                      |\n",
       "| MAPT1                             | 7.372825e-01                      |\n",
       "| site                              | 2.737215e-01                      |\n",
       "| SNCA_rs3562191                    | 2.467895e-01                      |\n",
       "| SNCA_rs3562192                    | 2.112471e-01                      |\n",
       "| NA                                |           NA                      |\n",
       "\n"
      ],
      "text/plain": [
       "   names                             res         \n",
       "1  agevisit                          4.519379e-06\n",
       "2  APOE_E41                          6.050354e-01\n",
       "3  disease_duration_onset_calculated 1.647698e-03\n",
       "4  education                         6.700518e-04\n",
       "5  GBA_carrier1                      3.063754e-06\n",
       "6  LRRK2_carrier1                    7.932969e-01\n",
       "7  MAPT1                             7.372825e-01\n",
       "8  site                              2.737215e-01\n",
       "9  SNCA_rs3562191                    2.467895e-01\n",
       "10 SNCA_rs3562192                    2.112471e-01\n",
       "11 NA                                          NA"
      ]
     },
     "metadata": {},
     "output_type": "display_data"
    }
   ],
   "source": [
    "dependent <- 'as.factor(cognitive_status)'\n",
    "fixes <- paste(dependent, \n",
    "               c(\n",
    "#            '~ agevisit + GBA_carrier + APOE_E4 + LRRK2_carrier + MAPT + SNCA_rs356219 + gender'\n",
    "           '~ agevisit + GBA_carrier + APOE_E4 + LRRK2_carrier + MAPT + SNCA_rs356219 + disease_duration_onset_calculated + education + site' \n",
    "                 )\n",
    "          )\n",
    "\n",
    "randoms <- c('re(1 | summary_id)')#, 're(1 + days_since_1st_visit | summary_id)') #, 're(1 + agevisit | summary_id)')\n",
    "formulas <- cbind(rep(fixes, each=length(randoms)), rep(randoms, times=length(fixes)))\n",
    "pMat <- data.frame(names=NA)\n",
    "\n",
    "for (a_row in 1:nrow(formulas)) {\n",
    "    \n",
    "    fixed <- formulas[a_row, 1]\n",
    "    random <- formulas[a_row, 2]\n",
    "    mod_olmm <- olmm(as.formula(paste(fixed, '+', random)), data = df_scaled[df_scaled$gender == 0, ], family = cumulative())\n",
    "    summaries <- summary(mod_olmm)\n",
    "    pVal <- data.frame(names=names(summaries$feMatGe[, 'z value']), res = (2*pnorm(abs(summaries$feMatGe[, 'z value']), lower.tail = F)))\n",
    "    pMat <- merge(pMat, pVal, by = 'names', all = TRUE)\n",
    "\n",
    "}\n",
    "pMat"
   ]
  },
  {
   "cell_type": "markdown",
   "metadata": {
    "toc-hr-collapsed": true
   },
   "source": [
    "# Section II (Regression of the clinical score by biological traits)"
   ]
  },
  {
   "cell_type": "markdown",
   "metadata": {},
   "source": [
    "## Cal r function definition"
   ]
  },
  {
   "cell_type": "code",
   "execution_count": 29,
   "metadata": {},
   "outputs": [],
   "source": [
    "comb <- function(x, ...) {\n",
    "  lapply(seq_along(x),\n",
    "    function(i) c(x[[i]], lapply(list(...), function(y) y[[i]])))\n",
    "}\n",
    "\n",
    "crossvalidateRegression <- function(data, fixed, random, dependent){\n",
    "    # This function perform cross validation using a mixed effect model for linear regression (not generalized)\n",
    "    # 'data' is the training set with the \".folds\" column\n",
    "    # 'dependent' is a string with the name of the score column we want to predict\n",
    "    # 'random' is a logical; do we have random effects in the model?\n",
    "\n",
    "    # Initialize empty list for recording performances\n",
    "    r_train <- c()\n",
    "    r_test <- c()\n",
    "    p_train <- c()\n",
    "    p_test <- c()\n",
    "    k <- max(as.integer(data$.folds))\n",
    "    data <- as.data.frame(data)\n",
    "\n",
    "    # One iteration per fold\n",
    "    for (fold in 1:k){\n",
    "\n",
    "        # Create training set for this iteration\n",
    "        # Subset all the datapoints where .folds does not match the current fold\n",
    "        training_set <- data[data$.folds != fold, ]\n",
    "\n",
    "        # Create test set for this iteration\n",
    "        # Subset all the datapoints where .folds matches the current fold\n",
    "        testing_set <- data[data$.folds == fold, ]\n",
    "\n",
    "        # Train linear mixed effects model on training set\n",
    "#         mod <- lmer(as.formula(paste(fixed, '+', random)), data = training_set, REML=FALSE)\n",
    "        mod <- lmer(as.formula(paste(fixed, random, sep = ' + ')), data = training_set)\n",
    "\n",
    "\n",
    "        # Predict the dependent variable in the testing_set with the trained model\n",
    "        y_pred_train <- predict(mod, training_set, allow.new.levels = TRUE)\n",
    "        y_pred_test <- predict(mod, testing_set, allow.new.levels = TRUE)\n",
    "\n",
    "        # Get rs\n",
    "        resultTrain <- cor.test(y_pred_train, training_set[[dependent]], method='pearson', alternative='two.sided')\n",
    "        resultTest <- cor.test(y_pred_test, testing_set[[dependent]], method='pearson', alternative='two.sided')\n",
    "        r_train[fold] <- resultTrain$estimate\n",
    "        p_train[fold] <- resultTrain$p.value\n",
    "        r_test[fold] <- resultTest$estimate\n",
    "        p_test[fold] <- resultTest$p.value\n",
    "        }\n",
    "    \n",
    "    # Return the mean of the recorded RMSEs\n",
    "    return(cbind('r_train' = r_train, 'r_test' = r_test, 'p_train'= p_train, 'p_test' = p_test))\n",
    "}"
   ]
  },
  {
   "cell_type": "markdown",
   "metadata": {},
   "source": [
    "## Define data"
   ]
  },
  {
   "cell_type": "code",
   "execution_count": 36,
   "metadata": {},
   "outputs": [],
   "source": [
    "# define df for this section\n",
    "df_sectionII <- df_vis_byID"
   ]
  },
  {
   "cell_type": "markdown",
   "metadata": {
    "toc-hr-collapsed": true
   },
   "source": [
    "## Cross validations for all tests, all patients"
   ]
  },
  {
   "cell_type": "code",
   "execution_count": 28,
   "metadata": {},
   "outputs": [
    {
     "ename": "ERROR",
     "evalue": "Error in {: task 1 failed - \"object 'df_sectionII' not found\"\n",
     "output_type": "error",
     "traceback": [
      "Error in {: task 1 failed - \"object 'df_sectionII' not found\"\nTraceback:\n",
      "1. foreach(iter = 1:niter, .combine = \"comb\", .multicombine = TRUE, \n .     .init = list(list(), list())) %dopar% {\n .     set.seed(iter)\n .     fixed <- paste(dependent, \"~ gender + agevisit + disease_duration_onset_calculated + site + education + GBA_carrier + gds_total + led + LRRK2_carrier + APOE_E4\")\n .     train_set <- fold(df_sectionII, k = kfolds, id_col = \"summary_id\", \n .         handle_existing_fold_cols = \"remove\")\n .     print(paste(dependent, \"-------------------------------------------------------\"))\n .     output <- crossvalidateRegression(train_set, fixed, random, \n .         dependent)\n .     list(mean(output[, \"r_test\"]), mean(output[, \"r_train\"]))\n . }",
      "2. e$fun(obj, substitute(ex), parent.frame(), e$data)"
     ]
    }
   ],
   "source": [
    "# cross validation to regress to each of these dependent variables\n",
    "dependents <- c('animals', 'letter_fluency', 'hvlt_total_recall', 'hvlt_RDI', 'hvlt_trial4_correct', 'jolo_total_correct', 'wais_digit_symbol_score', \n",
    "                'letter_number_sequencing_total', 'trailsbminusa', 'moca_score_unadjusted')\n",
    "random <- '(1 | summary_id)'\n",
    "\n",
    "# Initialize empty list for recording performances\n",
    "kfolds <- 4\n",
    "niter <- 100\n",
    "r_test <- matrix(NA, kfolds, niter)\n",
    "r_train <- matrix(NA, kfolds, niter)\n",
    "allResults <- c()\n",
    " \n",
    "# run the cross validation\n",
    "for (dependent in dependents) {\n",
    "    output <- foreach (iter = 1:niter, .combine='comb', .multicombine=TRUE, .init=list(list(), list())) %dopar% {\n",
    "        set.seed(iter)\n",
    "        fixed <- paste(dependent, '~ gender + agevisit + disease_duration_onset_calculated + site + education + GBA_carrier + gds_total + led + LRRK2_carrier + APOE_E4')\n",
    "        train_set <- fold(df_sectionII, k = kfolds, id_col = 'summary_id', handle_existing_fold_cols = 'remove') #, cat_col='cognitive_status'\n",
    "        print(paste(dependent, '-------------------------------------------------------'))\n",
    "        output <- crossvalidateRegression(train_set, fixed, random, dependent)\n",
    "        list(mean(output[, 'r_test']), mean(output[, 'r_train']))\n",
    "    }\n",
    "    names(output) <- c('r_test', 'r_train')\n",
    "    allResults[[dependent]] <- output\n",
    "}\n"
   ]
  },
  {
   "cell_type": "code",
   "execution_count": 125,
   "metadata": {},
   "outputs": [],
   "source": [
    "# get separate dataframe of r_train and r_test results\n",
    "r_test <- c()\n",
    "r_train <- c()\n",
    "for (aa in names(allResults)) {\n",
    "    r_test <- cbind(r_test, allResults[[aa]][['r_test']])\n",
    "    r_train <- cbind(r_train, allResults[[aa]][['r_train']])\n",
    "}\n",
    "colnames(r_test) <- names(allResults)\n",
    "colnames(r_train) <- names(allResults)\n",
    "\n",
    "r_train <- apply(r_train, 2, as.numeric)\n",
    "r_test <- apply(r_test, 2, as.numeric)"
   ]
  },
  {
   "cell_type": "markdown",
   "metadata": {},
   "source": [
    "### Plotting r results"
   ]
  },
  {
   "cell_type": "code",
   "execution_count": 126,
   "metadata": {},
   "outputs": [
    {
     "data": {
      "image/png": "[encoded data removed]",
      "text/plain": [
       "plot without title"
      ]
     },
     "metadata": {},
     "output_type": "display_data"
    }
   ],
   "source": [
    "# Wrangling to create dataframe for plotting\n",
    "r_train_mean <- apply(r_train, 2, mean)\n",
    "r_test_mean <- apply(r_test, 2, mean)\n",
    "r_train_sd <- apply(r_train, 2, sd)\n",
    "r_test_sd <- apply(r_test, 2, sd)\n",
    "r_mean <- cbind(r_train_mean, r_test_mean)\n",
    "r_sd <- cbind(r_train_sd, r_test_sd)\n",
    "\n",
    "r_melted <- as.data.frame(cbind(c(r_mean), c(r_sd), rep(c('train', 'test'), each = length(rownames(r_mean))), rep(rownames(r_mean), 2)))\n",
    "colnames(r_melted) <- c('values', 'sd', 'train.test', 'psychTest')\n",
    "r_melted[['values']] <- sapply(r_melted[['values']],  function(x) as.numeric(as.character(x)))\n",
    "r_melted[['sd']] <- sapply(r_melted[['sd']], function(x) as.numeric(as.character(x)))\n",
    "r_melted[['train.test']] <- sapply(r_melted[['train.test']], as.factor)\n",
    "r_melted[['psychTest']] <- sapply(r_melted[['psychTest']], as.factor)\n",
    "                           \n",
    "# Plot\n",
    "options(repr.plot.width = 5, repr.plot.height = 4)\n",
    "p <- ggplot(r_melted, aes(x = psychTest, y = values, fill = train.test)) + geom_bar(stat = \"identity\", \n",
    "                                                                                    color = \"black\", position=position_dodge()) + \n",
    "     geom_errorbar(aes(ymin = values - sd, ymax = values + sd), width=.2, position = position_dodge(.9)) + theme_bw() +\n",
    "     theme(axis.text.x = element_text(angle = 60, hjust = 1)) + labs(title = \"Train/test Results for each psychTest\") +\n",
    "     xlab('') + ylab('rho') + ylim(0, 1)\n",
    "p"
   ]
  },
  {
   "cell_type": "markdown",
   "metadata": {},
   "source": [
    "## P-value for different test scores for all patients"
   ]
  },
  {
   "cell_type": "code",
   "execution_count": 40,
   "metadata": {},
   "outputs": [
    {
     "name": "stderr",
     "output_type": "stream",
     "text": [
      "Computing profile confidence intervals ...\n",
      "\n"
     ]
    }
   ],
   "source": [
    "# Fitting model to each of these scores\n",
    "dependents <- c('moca_score_unadjusted')#'animals', 'letter_fluency', 'hvlt_total_recall', 'hvlt_RDI', 'hvlt_trial4_correct', 'jolo_total_correct', 'wais_digit_symbol_score', \n",
    "#                 'letter_number_sequencing_total', 'trailsbminusa', 'moca_score_unadjusted')\n",
    "random <- '(1 | summary_id)'\n",
    "fixed <- '~ gender + agevisit + education + disease_duration_onset_calculated + site + GBA_carrier + MAPT + APOE_E4 + led + gds_total'# + SNCA_rs356219 + LRRK2_carrier'\n",
    "\n",
    "resultTable <- list()\n",
    "randomSD <- list()\n",
    "timeCoef <- list()\n",
    "\n",
    "for (dependent in dependents) {\n",
    "    mod <- lmerTest::lmer(as.formula(paste(dependent, fixed, '+', random)), data = df_sectionII)\n",
    "    summaries <- summary(mod)\n",
    "    conf <- confint(mod)[, ]\n",
    "    resultTable[[dependent]] <- as.data.frame(cbind(summaries$coefficients[, c(1, 5)], conf[3:nrow(conf), ]))\n",
    "    timeCoef <- c(timeCoef, unlist(fixef(mod)['agevisit'])[1])\n",
    "    randomSD <- c(randomSD, as.data.frame(summaries$varcor)[1, 'sdcor'])\n",
    "}\n",
    "randomSD <- t(as.data.frame(randomSD))\n",
    "rownames(randomSD) <- dependents\n",
    "colnames(randomSD) <- 'Random Intercept Std.'\n",
    "timeCoef <- t(as.data.frame(timeCoef))\n",
    "rownames(timeCoef) <- dependents\n",
    "colnames(timeCoef) <- 'agevisit Est.' "
   ]
  },
  {
   "cell_type": "code",
   "execution_count": 41,
   "metadata": {},
   "outputs": [
    {
     "data": {
      "text/html": [
       "<table>\n",
       "<caption>A data.frame: 2 × 22</caption>\n",
       "<thead>\n",
       "\t<tr><th></th><th scope=col>agevisit Est.</th><th scope=col>Random Intercept Std.</th><th scope=col>Coef.</th><th scope=col>CI</th><th scope=col>P</th><th scope=col>Pc</th><th scope=col>Coef.</th><th scope=col>CI</th><th scope=col>P</th><th scope=col>Pc</th><th scope=col>Coef.</th><th scope=col>CI</th><th scope=col>P</th><th scope=col>Pc</th><th scope=col>Coef.</th><th scope=col>CI</th><th scope=col>P</th><th scope=col>Pc</th><th scope=col>Coef.</th><th scope=col>CI</th><th scope=col>P</th><th scope=col>Pc</th></tr>\n",
       "\t<tr><th></th><th scope=col>&lt;chr&gt;</th><th scope=col>&lt;chr&gt;</th><th scope=col>&lt;fct&gt;</th><th scope=col>&lt;fct&gt;</th><th scope=col>&lt;fct&gt;</th><th scope=col>&lt;fct&gt;</th><th scope=col>&lt;fct&gt;</th><th scope=col>&lt;fct&gt;</th><th scope=col>&lt;fct&gt;</th><th scope=col>&lt;fct&gt;</th><th scope=col>&lt;fct&gt;</th><th scope=col>&lt;fct&gt;</th><th scope=col>&lt;fct&gt;</th><th scope=col>&lt;fct&gt;</th><th scope=col>&lt;fct&gt;</th><th scope=col>&lt;fct&gt;</th><th scope=col>&lt;fct&gt;</th><th scope=col>&lt;fct&gt;</th><th scope=col>&lt;fct&gt;</th><th scope=col>&lt;fct&gt;</th><th scope=col>&lt;fct&gt;</th><th scope=col>&lt;fct&gt;</th></tr>\n",
       "</thead>\n",
       "<tbody>\n",
       "\t<tr><th scope=row>moca_score_unadjusted</th><td>-0.14322434555439</td><td>2.26195292377525</td><td>-1.53       </td><td>-2.16 to -0.9</td><td>2.800768e-06</td><td>2.800768e-06</td><td> 0.25</td><td>-0.18 to 0.69</td><td>2.546293e-01</td><td>2.546293e-01</td><td>-0.24  </td><td>-0.71 to 0.22</td><td>3.048475e-01</td><td>3.048475e-01</td><td> 0.00</td><td>0 to 0</td><td>1.808221e-02</td><td>1.808221e-02</td><td>-0.30    </td><td>-0.39 to -0.21</td><td>9.446779e-11</td><td>9.446779e-11</td></tr>\n",
       "\t<tr><th scope=row>1</th><td>agevisit Coef.   </td><td>Intercept       </td><td>GBA_carrier1</td><td>GBA_carrier1 </td><td>GBA_carrier1</td><td>GBA_carrier1</td><td>MAPT1</td><td>MAPT1        </td><td>MAPT1       </td><td>MAPT1       </td><td>APOE_E4</td><td>APOE_E4      </td><td>APOE_E4     </td><td>APOE_E4     </td><td>led  </td><td>led   </td><td>led         </td><td>led         </td><td>gds_total</td><td>gds_total     </td><td>gds_total   </td><td>gds_total   </td></tr>\n",
       "</tbody>\n",
       "</table>\n"
      ],
      "text/latex": [
       "A data.frame: 2 × 22\n",
       "\\begin{tabular}{r|llllllllllllllllllllll}\n",
       "  & agevisit Est. & Random Intercept Std. & Coef. & CI & P & Pc & Coef. & CI & P & Pc & Coef. & CI & P & Pc & Coef. & CI & P & Pc & Coef. & CI & P & Pc\\\\\n",
       "  & <chr> & <chr> & <fct> & <fct> & <fct> & <fct> & <fct> & <fct> & <fct> & <fct> & <fct> & <fct> & <fct> & <fct> & <fct> & <fct> & <fct> & <fct> & <fct> & <fct> & <fct> & <fct>\\\\\n",
       "\\hline\n",
       "\tmoca\\_score\\_unadjusted & -0.14322434555439 & 2.26195292377525 & -1.53        & -2.16 to -0.9 & 2.800768e-06 & 2.800768e-06 &  0.25 & -0.18 to 0.69 & 2.546293e-01 & 2.546293e-01 & -0.24   & -0.71 to 0.22 & 3.048475e-01 & 3.048475e-01 &  0.00 & 0 to 0 & 1.808221e-02 & 1.808221e-02 & -0.30     & -0.39 to -0.21 & 9.446779e-11 & 9.446779e-11\\\\\n",
       "\t1 & agevisit Coef.    & Intercept        & GBA\\_carrier1 & GBA\\_carrier1  & GBA\\_carrier1 & GBA\\_carrier1 & MAPT1 & MAPT1         & MAPT1        & MAPT1        & APOE\\_E4 & APOE\\_E4       & APOE\\_E4      & APOE\\_E4      & led   & led    & led          & led          & gds\\_total & gds\\_total      & gds\\_total    & gds\\_total   \\\\\n",
       "\\end{tabular}\n"
      ],
      "text/markdown": [
       "\n",
       "A data.frame: 2 × 22\n",
       "\n",
       "| <!--/--> | agevisit Est. &lt;chr&gt; | Random Intercept Std. &lt;chr&gt; | Coef. &lt;fct&gt; | CI &lt;fct&gt; | P &lt;fct&gt; | Pc &lt;fct&gt; | Coef. &lt;fct&gt; | CI &lt;fct&gt; | P &lt;fct&gt; | Pc &lt;fct&gt; | Coef. &lt;fct&gt; | CI &lt;fct&gt; | P &lt;fct&gt; | Pc &lt;fct&gt; | Coef. &lt;fct&gt; | CI &lt;fct&gt; | P &lt;fct&gt; | Pc &lt;fct&gt; | Coef. &lt;fct&gt; | CI &lt;fct&gt; | P &lt;fct&gt; | Pc &lt;fct&gt; |\n",
       "|---|---|---|---|---|---|---|---|---|---|---|---|---|---|---|---|---|---|---|---|---|---|---|\n",
       "| moca_score_unadjusted | -0.14322434555439 | 2.26195292377525 | -1.53        | -2.16 to -0.9 | 2.800768e-06 | 2.800768e-06 |  0.25 | -0.18 to 0.69 | 2.546293e-01 | 2.546293e-01 | -0.24   | -0.71 to 0.22 | 3.048475e-01 | 3.048475e-01 |  0.00 | 0 to 0 | 1.808221e-02 | 1.808221e-02 | -0.30     | -0.39 to -0.21 | 9.446779e-11 | 9.446779e-11 |\n",
       "| 1 | agevisit Coef.    | Intercept        | GBA_carrier1 | GBA_carrier1  | GBA_carrier1 | GBA_carrier1 | MAPT1 | MAPT1         | MAPT1        | MAPT1        | APOE_E4 | APOE_E4       | APOE_E4      | APOE_E4      | led   | led    | led          | led          | gds_total | gds_total      | gds_total    | gds_total    |\n",
       "\n"
      ],
      "text/plain": [
       "                      agevisit Est.     Random Intercept Std. Coef.       \n",
       "moca_score_unadjusted -0.14322434555439 2.26195292377525      -1.53       \n",
       "1                     agevisit Coef.    Intercept             GBA_carrier1\n",
       "                      CI            P            Pc           Coef.\n",
       "moca_score_unadjusted -2.16 to -0.9 2.800768e-06 2.800768e-06  0.25\n",
       "1                     GBA_carrier1  GBA_carrier1 GBA_carrier1 MAPT1\n",
       "                      CI            P            Pc           Coef.  \n",
       "moca_score_unadjusted -0.18 to 0.69 2.546293e-01 2.546293e-01 -0.24  \n",
       "1                     MAPT1         MAPT1        MAPT1        APOE_E4\n",
       "                      CI            P            Pc           Coef. CI    \n",
       "moca_score_unadjusted -0.71 to 0.22 3.048475e-01 3.048475e-01  0.00 0 to 0\n",
       "1                     APOE_E4       APOE_E4      APOE_E4      led   led   \n",
       "                      P            Pc           Coef.     CI            \n",
       "moca_score_unadjusted 1.808221e-02 1.808221e-02 -0.30     -0.39 to -0.21\n",
       "1                     led          led          gds_total gds_total     \n",
       "                      P            Pc          \n",
       "moca_score_unadjusted 9.446779e-11 9.446779e-11\n",
       "1                     gds_total    gds_total   "
      ]
     },
     "metadata": {},
     "output_type": "display_data"
    }
   ],
   "source": [
    "# Rearrange the table format and display the results (save if needed)\n",
    "finalTable <- c()\n",
    "for (dependent in dependents) {\n",
    "    resultTable[[dependent]][, c(1, 3:4)] <- t(apply(resultTable[[dependent]][, c(1, 3:4)], 1, round, 2))\n",
    "    resultTable[[dependent]]$CI <- apply(resultTable[[dependent]][, 3:4], 1, paste, collapse = ' to ')\n",
    "    resultTable[[dependent]]$Pc <- resultTable[[dependent]][['Pr(>|t|)']] * length(dependents)\n",
    "    resultTable[[dependent]]$Pc <- sapply(resultTable[[dependent]]$Pc, function(x) if (x > .99) x = '>.99' else x)\n",
    "\n",
    "    aa <- as.data.frame(t(c(t(resultTable[[dependent]][7:nrow(resultTable[[1]]), c(1, 5, 2, 6)]))))\n",
    "    colnames(aa) <- rep(c('Coef.', 'CI', 'P', 'Pc'), length(7:nrow(resultTable[[1]])))\n",
    "    finalTable[[dependent]] <- aa\n",
    "}\n",
    "                                          \n",
    "\n",
    "results <- as.data.frame(cbind(timeCoef, randomSD, do.call(rbind, finalTable)))\n",
    "gene <- t(c('agevisit Coef.', 'Intercept', rep(rownames(resultTable[[dependent]][7:nrow(resultTable[[1]]), ]), each = 4)))\n",
    "colnames(gene) <- colnames(results)\n",
    "                                          \n",
    "finalResults <- rbind(results , gene)\n",
    "finalResults\n",
    "# write.csv(finalResults, file = 'rResults/section_II/clinical_result_table.csv')"
   ]
  },
  {
   "cell_type": "markdown",
   "metadata": {},
   "source": [
    "## P-value for different test scores for gender-specific patients"
   ]
  },
  {
   "cell_type": "markdown",
   "metadata": {},
   "source": [
    "### Male"
   ]
  },
  {
   "cell_type": "code",
   "execution_count": 42,
   "metadata": {},
   "outputs": [
    {
     "name": "stderr",
     "output_type": "stream",
     "text": [
      "Warning message:\n",
      "“Some predictor variables are on very different scales: consider rescaling”\n",
      "Warning message:\n",
      "“Some predictor variables are on very different scales: consider rescaling”\n",
      "Computing profile confidence intervals ...\n",
      "\n"
     ]
    }
   ],
   "source": [
    "# Similar to previous but only for male\n",
    "dependents <- c('moca_score_unadjusted')#'animals', 'letter_fluency', 'hvlt_total_recall', 'hvlt_RDI', 'hvlt_trial4_correct', 'jolo_total_correct', 'wais_digit_symbol_score', \n",
    "#                 'letter_number_sequencing_total', 'trailsbminusa', 'moca_score_unadjusted')\n",
    "random <- '(1 | summary_id)'\n",
    "fixed <- '~ agevisit + education + disease_duration_onset_calculated + site + GBA_carrier + MAPT + APOE_E4 + led + gds_total'# + SNCA_rs356219 + LRRK2_carrier'\n",
    "\n",
    "resultTable <- list()\n",
    "randomSD <- list()\n",
    "timeCoef <- list()\n",
    "\n",
    "for (dependent in dependents) {\n",
    "    mod <- lmerTest::lmer(as.formula(paste(dependent, fixed, '+', random)), data = df_sectionII[df_sectionII$gender==1, ], \n",
    "                          control=lmerControl(optCtrl=list(maxfun=20000), optimizer='Nelder_Mead'))\n",
    "    summaries <- summary(mod)\n",
    "    conf <- confint(mod)[, ]\n",
    "    resultTable[[dependent]] <- as.data.frame(cbind(summaries$coefficients[, c(1, 5)], conf[3:nrow(conf), ]))\n",
    "    timeCoef <- c(timeCoef, unlist(fixef(mod)['agevisit'])[1])\n",
    "    randomSD <- c(randomSD, as.data.frame(summaries$varcor)[1, 'sdcor'])\n",
    "}\n",
    "randomSD <- t(as.data.frame(randomSD))\n",
    "rownames(randomSD) <- dependents\n",
    "colnames(randomSD) <- 'Random Intercept Std.'\n",
    "timeCoef <- t(as.data.frame(timeCoef))\n",
    "rownames(timeCoef) <- dependents\n",
    "colnames(timeCoef) <- 'agevisit Est.'"
   ]
  },
  {
   "cell_type": "code",
   "execution_count": 43,
   "metadata": {},
   "outputs": [
    {
     "data": {
      "text/html": [
       "<table>\n",
       "<caption>A data.frame: 2 × 22</caption>\n",
       "<thead>\n",
       "\t<tr><th></th><th scope=col>Random Intercept Std.</th><th scope=col>agevisit Est.</th><th scope=col>Coef.</th><th scope=col>CI</th><th scope=col>P</th><th scope=col>Pc</th><th scope=col>Coef..1</th><th scope=col>CI.1</th><th scope=col>P.1</th><th scope=col>Pc.1</th><th scope=col>Coef..2</th><th scope=col>CI.2</th><th scope=col>P.2</th><th scope=col>Pc.2</th><th scope=col>Coef..3</th><th scope=col>CI.3</th><th scope=col>P.3</th><th scope=col>Pc.3</th><th scope=col>Coef..4</th><th scope=col>CI.4</th><th scope=col>P.4</th><th scope=col>Pc.4</th></tr>\n",
       "\t<tr><th></th><th scope=col>&lt;chr&gt;</th><th scope=col>&lt;chr&gt;</th><th scope=col>&lt;fct&gt;</th><th scope=col>&lt;fct&gt;</th><th scope=col>&lt;fct&gt;</th><th scope=col>&lt;fct&gt;</th><th scope=col>&lt;fct&gt;</th><th scope=col>&lt;fct&gt;</th><th scope=col>&lt;fct&gt;</th><th scope=col>&lt;fct&gt;</th><th scope=col>&lt;fct&gt;</th><th scope=col>&lt;fct&gt;</th><th scope=col>&lt;fct&gt;</th><th scope=col>&lt;fct&gt;</th><th scope=col>&lt;fct&gt;</th><th scope=col>&lt;fct&gt;</th><th scope=col>&lt;fct&gt;</th><th scope=col>&lt;fct&gt;</th><th scope=col>&lt;fct&gt;</th><th scope=col>&lt;fct&gt;</th><th scope=col>&lt;fct&gt;</th><th scope=col>&lt;fct&gt;</th></tr>\n",
       "</thead>\n",
       "<tbody>\n",
       "\t<tr><th scope=row>moca_score_unadjusted</th><td>2.4142129644442</td><td>-0.152105807961402</td><td>-0.02  </td><td>-0.6 to 0.57</td><td>9.533124e-01</td><td>9.533124e-01</td><td>-1.61       </td><td>-2.45 to -0.77</td><td>2.198095e-04</td><td>2.198095e-04</td><td>-0.27    </td><td>-0.38 to -0.17</td><td>6.438165e-07</td><td>6.438165e-07</td><td> 0.00</td><td>0 to 0</td><td>2.236440e-02</td><td>2.236440e-02</td><td> 0.29</td><td>-0.26 to 0.84</td><td>3.038193e-01</td><td>3.038193e-01</td></tr>\n",
       "\t<tr><th scope=row>1</th><td>Intercept      </td><td>agevisit Coef.    </td><td>APOE_E4</td><td>APOE_E4     </td><td>APOE_E4     </td><td>APOE_E4     </td><td>GBA_carrier1</td><td>GBA_carrier1  </td><td>GBA_carrier1</td><td>GBA_carrier1</td><td>gds_total</td><td>gds_total     </td><td>gds_total   </td><td>gds_total   </td><td>led  </td><td>led   </td><td>led         </td><td>led         </td><td>MAPT1</td><td>MAPT1        </td><td>MAPT1       </td><td>MAPT1       </td></tr>\n",
       "</tbody>\n",
       "</table>\n"
      ],
      "text/latex": [
       "A data.frame: 2 × 22\n",
       "\\begin{tabular}{r|llllllllllllllllllllll}\n",
       "  & Random Intercept Std. & agevisit Est. & Coef. & CI & P & Pc & Coef..1 & CI.1 & P.1 & Pc.1 & Coef..2 & CI.2 & P.2 & Pc.2 & Coef..3 & CI.3 & P.3 & Pc.3 & Coef..4 & CI.4 & P.4 & Pc.4\\\\\n",
       "  & <chr> & <chr> & <fct> & <fct> & <fct> & <fct> & <fct> & <fct> & <fct> & <fct> & <fct> & <fct> & <fct> & <fct> & <fct> & <fct> & <fct> & <fct> & <fct> & <fct> & <fct> & <fct>\\\\\n",
       "\\hline\n",
       "\tmoca\\_score\\_unadjusted & 2.4142129644442 & -0.152105807961402 & -0.02   & -0.6 to 0.57 & 9.533124e-01 & 9.533124e-01 & -1.61        & -2.45 to -0.77 & 2.198095e-04 & 2.198095e-04 & -0.27     & -0.38 to -0.17 & 6.438165e-07 & 6.438165e-07 &  0.00 & 0 to 0 & 2.236440e-02 & 2.236440e-02 &  0.29 & -0.26 to 0.84 & 3.038193e-01 & 3.038193e-01\\\\\n",
       "\t1 & Intercept       & agevisit Coef.     & APOE\\_E4 & APOE\\_E4      & APOE\\_E4      & APOE\\_E4      & GBA\\_carrier1 & GBA\\_carrier1   & GBA\\_carrier1 & GBA\\_carrier1 & gds\\_total & gds\\_total      & gds\\_total    & gds\\_total    & led   & led    & led          & led          & MAPT1 & MAPT1         & MAPT1        & MAPT1       \\\\\n",
       "\\end{tabular}\n"
      ],
      "text/markdown": [
       "\n",
       "A data.frame: 2 × 22\n",
       "\n",
       "| <!--/--> | Random Intercept Std. &lt;chr&gt; | agevisit Est. &lt;chr&gt; | Coef. &lt;fct&gt; | CI &lt;fct&gt; | P &lt;fct&gt; | Pc &lt;fct&gt; | Coef..1 &lt;fct&gt; | CI.1 &lt;fct&gt; | P.1 &lt;fct&gt; | Pc.1 &lt;fct&gt; | Coef..2 &lt;fct&gt; | CI.2 &lt;fct&gt; | P.2 &lt;fct&gt; | Pc.2 &lt;fct&gt; | Coef..3 &lt;fct&gt; | CI.3 &lt;fct&gt; | P.3 &lt;fct&gt; | Pc.3 &lt;fct&gt; | Coef..4 &lt;fct&gt; | CI.4 &lt;fct&gt; | P.4 &lt;fct&gt; | Pc.4 &lt;fct&gt; |\n",
       "|---|---|---|---|---|---|---|---|---|---|---|---|---|---|---|---|---|---|---|---|---|---|---|\n",
       "| moca_score_unadjusted | 2.4142129644442 | -0.152105807961402 | -0.02   | -0.6 to 0.57 | 9.533124e-01 | 9.533124e-01 | -1.61        | -2.45 to -0.77 | 2.198095e-04 | 2.198095e-04 | -0.27     | -0.38 to -0.17 | 6.438165e-07 | 6.438165e-07 |  0.00 | 0 to 0 | 2.236440e-02 | 2.236440e-02 |  0.29 | -0.26 to 0.84 | 3.038193e-01 | 3.038193e-01 |\n",
       "| 1 | Intercept       | agevisit Coef.     | APOE_E4 | APOE_E4      | APOE_E4      | APOE_E4      | GBA_carrier1 | GBA_carrier1   | GBA_carrier1 | GBA_carrier1 | gds_total | gds_total      | gds_total    | gds_total    | led   | led    | led          | led          | MAPT1 | MAPT1         | MAPT1        | MAPT1        |\n",
       "\n"
      ],
      "text/plain": [
       "                      Random Intercept Std. agevisit Est.      Coef.  \n",
       "moca_score_unadjusted 2.4142129644442       -0.152105807961402 -0.02  \n",
       "1                     Intercept             agevisit Coef.     APOE_E4\n",
       "                      CI           P            Pc           Coef..1     \n",
       "moca_score_unadjusted -0.6 to 0.57 9.533124e-01 9.533124e-01 -1.61       \n",
       "1                     APOE_E4      APOE_E4      APOE_E4      GBA_carrier1\n",
       "                      CI.1           P.1          Pc.1         Coef..2  \n",
       "moca_score_unadjusted -2.45 to -0.77 2.198095e-04 2.198095e-04 -0.27    \n",
       "1                     GBA_carrier1   GBA_carrier1 GBA_carrier1 gds_total\n",
       "                      CI.2           P.2          Pc.2         Coef..3 CI.3  \n",
       "moca_score_unadjusted -0.38 to -0.17 6.438165e-07 6.438165e-07  0.00   0 to 0\n",
       "1                     gds_total      gds_total    gds_total    led     led   \n",
       "                      P.3          Pc.3         Coef..4 CI.4         \n",
       "moca_score_unadjusted 2.236440e-02 2.236440e-02  0.29   -0.26 to 0.84\n",
       "1                     led          led          MAPT1   MAPT1        \n",
       "                      P.4          Pc.4        \n",
       "moca_score_unadjusted 3.038193e-01 3.038193e-01\n",
       "1                     MAPT1        MAPT1       "
      ]
     },
     "metadata": {},
     "output_type": "display_data"
    }
   ],
   "source": [
    "# Rearrange the table format and display\n",
    "\n",
    "finalTable <- c()\n",
    "for (dependent in dependents) {\n",
    "    resultTable[[dependent]][, c(1, 3:4)] <- t(apply(resultTable[[dependent]][, c(1, 3:4)], 1, round, 2))\n",
    "    resultTable[[dependent]]$CI <- apply(resultTable[[dependent]][, 3:4], 1, paste, collapse = ' to ')\n",
    "    resultTable[[dependent]]$Pc <- resultTable[[dependent]][['Pr(>|t|)']] * length(dependents)\n",
    "    resultTable[[dependent]]$Pc <- sapply(resultTable[[dependent]]$Pc, function(x) if (x > .99) x = '>.99' else x)\n",
    "\n",
    "    aa <- as.data.frame(t(c(t(resultTable[[dependent]][6:nrow(resultTable[[1]]), c(1, 5, 2, 6)]))))\n",
    "    colnames(aa) <- rep(c('Coef.', 'CI', 'P', 'Pc'), length(6:nrow(resultTable[[1]])))\n",
    "    finalTable[[dependent]] <- aa\n",
    "}\n",
    "                                          \n",
    "\n",
    "results <- as.data.frame(cbind(timeCoef, randomSD, do.call(rbind, finalTable)))\n",
    "gene <- t(c('agevisit Coef.', 'Intercept', rep(rownames(resultTable[[dependent]][6:nrow(resultTable[[1]]), ]), each = 4)))\n",
    "colnames(gene) <- colnames(results)\n",
    "                                          \n",
    "finalResults <- rbind(results , gene)\n",
    "                                          \n",
    "# rearrange columns\n",
    "finalResults <- finalResults[, order(finalResults['1', ])]\n",
    "finalResults <- finalResults[, c(which(finalResults['1', ] == 'Intercept'), (1:ncol(finalResults))[-which(finalResults['1', ] == 'Intercept')])]\n",
    "finalResults\n",
    "# write.csv(finalResults, file = 'rResults/section_II/clinical_result_table_maleOnly_APOE_E4_noLRRK2SNCA.csv')"
   ]
  },
  {
   "cell_type": "markdown",
   "metadata": {},
   "source": [
    "### Female"
   ]
  },
  {
   "cell_type": "code",
   "execution_count": 44,
   "metadata": {},
   "outputs": [
    {
     "name": "stderr",
     "output_type": "stream",
     "text": [
      "Computing profile confidence intervals ...\n",
      "\n"
     ]
    }
   ],
   "source": [
    "# Similar to previous but only for female\n",
    "dependents <- c('moca_score_unadjusted')#'animals', 'letter_fluency', 'hvlt_total_recall', 'hvlt_RDI', 'hvlt_trial4_correct', 'jolo_total_correct', 'wais_digit_symbol_score', \n",
    "#                 'letter_number_sequencing_total', 'trailsbminusa', 'moca_score_unadjusted')\n",
    "random <- '(1 | summary_id)'\n",
    "fixed <- '~ agevisit + education + disease_duration_onset_calculated + site + GBA_carrier + MAPT + APOE_E4 + led + gds_total' # + SNCA_rs356219 + LRRK2_carrier'\n",
    "\n",
    "resultTable <- list()\n",
    "randomSD <- list()\n",
    "timeCoef <- list()\n",
    "\n",
    "for (dependent in dependents) {\n",
    "    mod <- lmerTest::lmer(as.formula(paste(dependent, fixed, '+', random)), data = df_sectionII[df_sectionII$gender == 0, ],\n",
    "                         control=lmerControl(optCtrl=list(maxfun=20000), optimizer='Nelder_Mead'))\n",
    "    summaries <- summary(mod)\n",
    "    conf <- confint(mod)[, ]\n",
    "    resultTable[[dependent]] <- as.data.frame(cbind(summaries$coefficients[, c(1, 5)], conf[3:nrow(conf), ]))\n",
    "#     print(dependent)\n",
    "#     qqnorm(resid(mod))\n",
    "#     qqline(resid(mod))\n",
    "    timeCoef <- c(timeCoef, unlist(fixef(mod)['agevisit'])[1])\n",
    "#     varcorr <- VarCorr(mod)\n",
    "    randomSD <- c(randomSD, as.data.frame(summaries$varcor)[1, 'sdcor'])\n",
    "}\n",
    "randomSD <- t(as.data.frame(randomSD))\n",
    "rownames(randomSD) <- dependents\n",
    "colnames(randomSD) <- 'Random Intercept Std.'\n",
    "timeCoef <- t(as.data.frame(timeCoef))\n",
    "rownames(timeCoef) <- dependents\n",
    "colnames(timeCoef) <- 'agevisit Est.' "
   ]
  },
  {
   "cell_type": "code",
   "execution_count": 45,
   "metadata": {},
   "outputs": [
    {
     "data": {
      "text/html": [
       "<table>\n",
       "<caption>A data.frame: 2 × 22</caption>\n",
       "<thead>\n",
       "\t<tr><th></th><th scope=col>Random Intercept Std.</th><th scope=col>agevisit Est.</th><th scope=col>Coef.</th><th scope=col>CI</th><th scope=col>P</th><th scope=col>Pc</th><th scope=col>Coef..1</th><th scope=col>CI.1</th><th scope=col>P.1</th><th scope=col>Pc.1</th><th scope=col>Coef..2</th><th scope=col>CI.2</th><th scope=col>P.2</th><th scope=col>Pc.2</th><th scope=col>Coef..3</th><th scope=col>CI.3</th><th scope=col>P.3</th><th scope=col>Pc.3</th><th scope=col>Coef..4</th><th scope=col>CI.4</th><th scope=col>P.4</th><th scope=col>Pc.4</th></tr>\n",
       "\t<tr><th></th><th scope=col>&lt;chr&gt;</th><th scope=col>&lt;chr&gt;</th><th scope=col>&lt;fct&gt;</th><th scope=col>&lt;fct&gt;</th><th scope=col>&lt;fct&gt;</th><th scope=col>&lt;fct&gt;</th><th scope=col>&lt;fct&gt;</th><th scope=col>&lt;fct&gt;</th><th scope=col>&lt;fct&gt;</th><th scope=col>&lt;fct&gt;</th><th scope=col>&lt;fct&gt;</th><th scope=col>&lt;fct&gt;</th><th scope=col>&lt;fct&gt;</th><th scope=col>&lt;fct&gt;</th><th scope=col>&lt;fct&gt;</th><th scope=col>&lt;fct&gt;</th><th scope=col>&lt;fct&gt;</th><th scope=col>&lt;fct&gt;</th><th scope=col>&lt;fct&gt;</th><th scope=col>&lt;fct&gt;</th><th scope=col>&lt;fct&gt;</th><th scope=col>&lt;fct&gt;</th></tr>\n",
       "</thead>\n",
       "<tbody>\n",
       "\t<tr><th scope=row>moca_score_unadjusted</th><td>1.9310283116283</td><td>-0.127555938285602</td><td>-0.71  </td><td>-1.46 to 0.03</td><td>6.673743e-02</td><td>6.673743e-02</td><td>-1.39       </td><td>-2.32 to -0.45</td><td>4.783987e-03</td><td>4.783987e-03</td><td>-0.38    </td><td>-0.55 to -0.21</td><td>2.508191e-05</td><td>2.508191e-05</td><td> 0.00</td><td>0 to 0</td><td>3.824144e-01</td><td>3.824144e-01</td><td> 0.17</td><td>-0.52 to 0.87</td><td>6.284737e-01</td><td>6.284737e-01</td></tr>\n",
       "\t<tr><th scope=row>1</th><td>Intercept      </td><td>agevisit Coef.    </td><td>APOE_E4</td><td>APOE_E4      </td><td>APOE_E4     </td><td>APOE_E4     </td><td>GBA_carrier1</td><td>GBA_carrier1  </td><td>GBA_carrier1</td><td>GBA_carrier1</td><td>gds_total</td><td>gds_total     </td><td>gds_total   </td><td>gds_total   </td><td>led  </td><td>led   </td><td>led         </td><td>led         </td><td>MAPT1</td><td>MAPT1        </td><td>MAPT1       </td><td>MAPT1       </td></tr>\n",
       "</tbody>\n",
       "</table>\n"
      ],
      "text/latex": [
       "A data.frame: 2 × 22\n",
       "\\begin{tabular}{r|llllllllllllllllllllll}\n",
       "  & Random Intercept Std. & agevisit Est. & Coef. & CI & P & Pc & Coef..1 & CI.1 & P.1 & Pc.1 & Coef..2 & CI.2 & P.2 & Pc.2 & Coef..3 & CI.3 & P.3 & Pc.3 & Coef..4 & CI.4 & P.4 & Pc.4\\\\\n",
       "  & <chr> & <chr> & <fct> & <fct> & <fct> & <fct> & <fct> & <fct> & <fct> & <fct> & <fct> & <fct> & <fct> & <fct> & <fct> & <fct> & <fct> & <fct> & <fct> & <fct> & <fct> & <fct>\\\\\n",
       "\\hline\n",
       "\tmoca\\_score\\_unadjusted & 1.9310283116283 & -0.127555938285602 & -0.71   & -1.46 to 0.03 & 6.673743e-02 & 6.673743e-02 & -1.39        & -2.32 to -0.45 & 4.783987e-03 & 4.783987e-03 & -0.38     & -0.55 to -0.21 & 2.508191e-05 & 2.508191e-05 &  0.00 & 0 to 0 & 3.824144e-01 & 3.824144e-01 &  0.17 & -0.52 to 0.87 & 6.284737e-01 & 6.284737e-01\\\\\n",
       "\t1 & Intercept       & agevisit Coef.     & APOE\\_E4 & APOE\\_E4       & APOE\\_E4      & APOE\\_E4      & GBA\\_carrier1 & GBA\\_carrier1   & GBA\\_carrier1 & GBA\\_carrier1 & gds\\_total & gds\\_total      & gds\\_total    & gds\\_total    & led   & led    & led          & led          & MAPT1 & MAPT1         & MAPT1        & MAPT1       \\\\\n",
       "\\end{tabular}\n"
      ],
      "text/markdown": [
       "\n",
       "A data.frame: 2 × 22\n",
       "\n",
       "| <!--/--> | Random Intercept Std. &lt;chr&gt; | agevisit Est. &lt;chr&gt; | Coef. &lt;fct&gt; | CI &lt;fct&gt; | P &lt;fct&gt; | Pc &lt;fct&gt; | Coef..1 &lt;fct&gt; | CI.1 &lt;fct&gt; | P.1 &lt;fct&gt; | Pc.1 &lt;fct&gt; | Coef..2 &lt;fct&gt; | CI.2 &lt;fct&gt; | P.2 &lt;fct&gt; | Pc.2 &lt;fct&gt; | Coef..3 &lt;fct&gt; | CI.3 &lt;fct&gt; | P.3 &lt;fct&gt; | Pc.3 &lt;fct&gt; | Coef..4 &lt;fct&gt; | CI.4 &lt;fct&gt; | P.4 &lt;fct&gt; | Pc.4 &lt;fct&gt; |\n",
       "|---|---|---|---|---|---|---|---|---|---|---|---|---|---|---|---|---|---|---|---|---|---|---|\n",
       "| moca_score_unadjusted | 1.9310283116283 | -0.127555938285602 | -0.71   | -1.46 to 0.03 | 6.673743e-02 | 6.673743e-02 | -1.39        | -2.32 to -0.45 | 4.783987e-03 | 4.783987e-03 | -0.38     | -0.55 to -0.21 | 2.508191e-05 | 2.508191e-05 |  0.00 | 0 to 0 | 3.824144e-01 | 3.824144e-01 |  0.17 | -0.52 to 0.87 | 6.284737e-01 | 6.284737e-01 |\n",
       "| 1 | Intercept       | agevisit Coef.     | APOE_E4 | APOE_E4       | APOE_E4      | APOE_E4      | GBA_carrier1 | GBA_carrier1   | GBA_carrier1 | GBA_carrier1 | gds_total | gds_total      | gds_total    | gds_total    | led   | led    | led          | led          | MAPT1 | MAPT1         | MAPT1        | MAPT1        |\n",
       "\n"
      ],
      "text/plain": [
       "                      Random Intercept Std. agevisit Est.      Coef.  \n",
       "moca_score_unadjusted 1.9310283116283       -0.127555938285602 -0.71  \n",
       "1                     Intercept             agevisit Coef.     APOE_E4\n",
       "                      CI            P            Pc           Coef..1     \n",
       "moca_score_unadjusted -1.46 to 0.03 6.673743e-02 6.673743e-02 -1.39       \n",
       "1                     APOE_E4       APOE_E4      APOE_E4      GBA_carrier1\n",
       "                      CI.1           P.1          Pc.1         Coef..2  \n",
       "moca_score_unadjusted -2.32 to -0.45 4.783987e-03 4.783987e-03 -0.38    \n",
       "1                     GBA_carrier1   GBA_carrier1 GBA_carrier1 gds_total\n",
       "                      CI.2           P.2          Pc.2         Coef..3 CI.3  \n",
       "moca_score_unadjusted -0.55 to -0.21 2.508191e-05 2.508191e-05  0.00   0 to 0\n",
       "1                     gds_total      gds_total    gds_total    led     led   \n",
       "                      P.3          Pc.3         Coef..4 CI.4         \n",
       "moca_score_unadjusted 3.824144e-01 3.824144e-01  0.17   -0.52 to 0.87\n",
       "1                     led          led          MAPT1   MAPT1        \n",
       "                      P.4          Pc.4        \n",
       "moca_score_unadjusted 6.284737e-01 6.284737e-01\n",
       "1                     MAPT1        MAPT1       "
      ]
     },
     "metadata": {},
     "output_type": "display_data"
    }
   ],
   "source": [
    "# Rearrange the table format and display\n",
    "\n",
    "finalTable <- c()\n",
    "for (dependent in dependents) {\n",
    "    resultTable[[dependent]][, c(1, 3:4)] <- t(apply(resultTable[[dependent]][, c(1, 3:4)], 1, round, 2))\n",
    "    resultTable[[dependent]]$CI <- apply(resultTable[[dependent]][, 3:4], 1, paste, collapse = ' to ')\n",
    "    resultTable[[dependent]]$Pc <- resultTable[[dependent]][['Pr(>|t|)']] * length(dependents)\n",
    "    resultTable[[dependent]]$Pc <- sapply(resultTable[[dependent]]$Pc, function(x) if (x > .99) x = '>.99' else x)\n",
    "\n",
    "    aa <- as.data.frame(t(c(t(resultTable[[dependent]][6:nrow(resultTable[[1]]), c(1, 5, 2, 6)]))))\n",
    "    colnames(aa) <- rep(c('Coef.', 'CI', 'P', 'Pc'), length(6:nrow(resultTable[[1]])))\n",
    "    finalTable[[dependent]] <- aa\n",
    "}\n",
    "                                          \n",
    "\n",
    "results <- as.data.frame(cbind(timeCoef, randomSD, do.call(rbind, finalTable)))\n",
    "gene <- t(c('agevisit Coef.', 'Intercept', rep(rownames(resultTable[[dependent]][6:nrow(resultTable[[1]]), ]), each = 4)))\n",
    "colnames(gene) <- colnames(results)\n",
    "                                          \n",
    "finalResults <- rbind(results , gene)\n",
    "\n",
    "# rearrange columns\n",
    "finalResults <- finalResults[, order(finalResults['1', ])]\n",
    "finalResults <- finalResults[, c(which(finalResults['1', ] == 'Intercept'), (1:ncol(finalResults))[-which(finalResults['1', ] == 'Intercept')])]\n",
    "finalResults\n",
    "# write.csv(finalResults, file = 'rResults/section_II/clinical_result_table_femaleOnly_APOE_E4_noLRRK2SNCA.csv')"
   ]
  },
  {
   "cell_type": "markdown",
   "metadata": {},
   "source": [
    "### Female and non_GBA_carrier"
   ]
  },
  {
   "cell_type": "code",
   "execution_count": 51,
   "metadata": {},
   "outputs": [
    {
     "name": "stderr",
     "output_type": "stream",
     "text": [
      "Computing profile confidence intervals ...\n",
      "Computing profile confidence intervals ...\n",
      "Computing profile confidence intervals ...\n",
      "Computing profile confidence intervals ...\n",
      "Computing profile confidence intervals ...\n",
      "Computing profile confidence intervals ...\n",
      "Computing profile confidence intervals ...\n",
      "Computing profile confidence intervals ...\n",
      "Computing profile confidence intervals ...\n",
      "Computing profile confidence intervals ...\n"
     ]
    }
   ],
   "source": [
    "# Similar to previous but only for female with no GBA\n",
    "\n",
    "dependents <- c('animals', 'letter_fluency', 'hvlt_total_recall', 'hvlt_RDI', 'hvlt_trial4_correct', 'jolo_total_correct', 'wais_digit_symbol_score', \n",
    "                'letter_number_sequencing_total', 'trailsbminusa', 'moca_score_unadjusted')\n",
    "random <- '(1 | summary_id)'\n",
    "fixed <- '~ agevisit + SNCA_rs356219 + LRRK2_carrier + APOE_E4 + MAPT + education + disease_duration_onset_calculated + site'\n",
    "\n",
    "resultTable <- list()\n",
    "randomSD <- list()\n",
    "timeCoef <- list()\n",
    "\n",
    "for (dependent in dependents) {\n",
    "    mod <- lmerTest::lmer(as.formula(paste(dependent, fixed, '+', random)), data = df_sectionII[(df_sectionII$GBA_carrier==0) & \n",
    "                                                                                                (df_sectionII$gender==0), ], \n",
    "                          control=lmerControl(optCtrl=list(maxfun=20000), optimizer='Nelder_Mead'))\n",
    "    summaries <- summary(mod)\n",
    "    conf <- confint(mod)[, ]\n",
    "    resultTable[[dependent]] <- as.data.frame(cbind(summaries$coefficients[, c(1, 5)], conf[3:nrow(conf), ]))\n",
    "#     print(dependent)\n",
    "#     qqnorm(resid(mod))\n",
    "#     qqline(resid(mod))\n",
    "    timeCoef <- c(timeCoef, unlist(fixef(mod)['agevisit'])[1])\n",
    "#     varcorr <- VarCorr(mod)\n",
    "    randomSD <- c(randomSD, as.data.frame(summaries$varcor)[1, 'sdcor'])\n",
    "}\n",
    "randomSD <- t(as.data.frame(randomSD))\n",
    "rownames(randomSD) <- dependents\n",
    "colnames(randomSD) <- 'Random Intercept Std.'\n",
    "timeCoef <- t(as.data.frame(timeCoef))\n",
    "rownames(timeCoef) <- dependents\n",
    "colnames(timeCoef) <- 'agevisit Est.'"
   ]
  },
  {
   "cell_type": "code",
   "execution_count": 52,
   "metadata": {},
   "outputs": [
    {
     "data": {
      "text/html": [
       "<table>\n",
       "<thead><tr><th></th><th scope=col>agevisit Est.</th><th scope=col>Random Intercept Std.</th><th scope=col>Coef.</th><th scope=col>CI</th><th scope=col>P</th><th scope=col>Pc</th><th scope=col>Coef.</th><th scope=col>CI</th><th scope=col>P</th><th scope=col>Pc</th><th scope=col>Coef.</th><th scope=col>CI</th><th scope=col>P</th><th scope=col>Pc</th><th scope=col>Coef.</th><th scope=col>CI</th><th scope=col>P</th><th scope=col>Pc</th><th scope=col>Coef.</th><th scope=col>CI</th><th scope=col>P</th><th scope=col>Pc</th></tr></thead>\n",
       "<tbody>\n",
       "\t<tr><th scope=row>animals</th><td>-0.234304239125042                                       </td><td>3.84702093629093                                         </td><td><span style=white-space:pre-wrap>-0.51         </span>   </td><td>-2.03 to 1.02                                            </td><td><span style=white-space:pre-wrap>0.521162248   </span>   </td><td><span style=white-space:pre-wrap>&gt;.99          </span></td><td><span style=white-space:pre-wrap>-0.55         </span>   </td><td><span style=white-space:pre-wrap>-2.63 to 1.54  </span>  </td><td><span style=white-space:pre-wrap>0.610256340   </span>   </td><td><span style=white-space:pre-wrap>&gt;.99          </span></td><td><span style=white-space:pre-wrap> 0.19         </span>   </td><td>-3.54 to 3.89                                            </td><td><span style=white-space:pre-wrap>0.922743158   </span>   </td><td><span style=white-space:pre-wrap>&gt;.99          </span></td><td><span style=white-space:pre-wrap>-2.16   </span>         </td><td>-3.64 to -0.68                                           </td><td>0.005523853                                              </td><td>0.0552385319237263                                       </td><td> 0.06                                                    </td><td><span style=white-space:pre-wrap>-1.31 to 1.43  </span>  </td><td>0.934304811                                              </td><td>&gt;.99                                                  </td></tr>\n",
       "\t<tr><th scope=row>letter_fluency</th><td>-0.392629795694679                                       </td><td>9.24320810597092                                         </td><td><span style=white-space:pre-wrap> 0.38         </span>   </td><td>-3.21 to 3.96                                            </td><td><span style=white-space:pre-wrap>0.83933053    </span>   </td><td><span style=white-space:pre-wrap>&gt;.99          </span></td><td><span style=white-space:pre-wrap> 2.77         </span>   </td><td><span style=white-space:pre-wrap>-2.11 to 7.69  </span>  </td><td><span style=white-space:pre-wrap>0.27787642    </span>   </td><td><span style=white-space:pre-wrap>&gt;.99          </span></td><td><span style=white-space:pre-wrap>-6.95         </span>   </td><td>-15.69 to 1.77                                           </td><td><span style=white-space:pre-wrap>0.12638914    </span>   </td><td><span style=white-space:pre-wrap>&gt;.99          </span></td><td><span style=white-space:pre-wrap>-4.18   </span>         </td><td>-7.66 to -0.7                                            </td><td>0.02183373                                               </td><td>0.218337339256139                                        </td><td> 0.36                                                    </td><td><span style=white-space:pre-wrap>-2.86 to 3.58  </span>  </td><td>0.82871836                                               </td><td>&gt;.99                                                  </td></tr>\n",
       "\t<tr><th scope=row>hvlt_total_recall</th><td>-0.234261085758152                                           </td><td>3.65251430068027                                             </td><td><span style=white-space:pre-wrap>-0.89         </span>       </td><td>-2.35 to 0.58                                                </td><td><span style=white-space:pre-wrap>0.2425659     </span>       </td><td><span style=white-space:pre-wrap>&gt;.99          </span>    </td><td><span style=white-space:pre-wrap> 0.20         </span>       </td><td><span style=white-space:pre-wrap>-1.79 to 2.2   </span>      </td><td><span style=white-space:pre-wrap>0.8485966     </span>       </td><td><span style=white-space:pre-wrap>&gt;.99          </span>    </td><td><span style=white-space:pre-wrap>-2.25         </span>       </td><td><span style=white-space:pre-wrap>-5.83 to 1.3  </span>       </td><td><span style=white-space:pre-wrap>0.2255540     </span>       </td><td><span style=white-space:pre-wrap>&gt;.99          </span>    </td><td><span style=white-space:pre-wrap>-0.47   </span>             </td><td>-1.89 to 0.95                                                </td><td><span style=white-space:pre-wrap>0.5262795  </span>          </td><td><span style=white-space:pre-wrap>&gt;.99              </span></td><td> 0.00                                                        </td><td><span style=white-space:pre-wrap>-1.3 to 1.32   </span>      </td><td><span style=white-space:pre-wrap>0.9942796  </span>          </td><td>&gt;.99                                                      </td></tr>\n",
       "\t<tr><th scope=row>hvlt_RDI</th><td>-0.0580567131425873                                          </td><td>0.816288558118998                                            </td><td><span style=white-space:pre-wrap>-0.01         </span>       </td><td>-0.42 to 0.41                                                </td><td><span style=white-space:pre-wrap>0.9762998     </span>       </td><td><span style=white-space:pre-wrap>&gt;.99          </span>    </td><td><span style=white-space:pre-wrap>-0.30         </span>       </td><td><span style=white-space:pre-wrap>-0.86 to 0.26  </span>      </td><td><span style=white-space:pre-wrap>0.3007865     </span>       </td><td><span style=white-space:pre-wrap>&gt;.99          </span>    </td><td><span style=white-space:pre-wrap>-0.20         </span>       </td><td><span style=white-space:pre-wrap>-1.21 to 0.8  </span>       </td><td><span style=white-space:pre-wrap>0.7002504     </span>       </td><td><span style=white-space:pre-wrap>&gt;.99          </span>    </td><td><span style=white-space:pre-wrap>-0.14   </span>             </td><td>-0.55 to 0.26                                                </td><td><span style=white-space:pre-wrap>0.4943290  </span>          </td><td><span style=white-space:pre-wrap>&gt;.99              </span></td><td> 0.20                                                        </td><td><span style=white-space:pre-wrap>-0.17 to 0.57  </span>      </td><td><span style=white-space:pre-wrap>0.3040741  </span>          </td><td>&gt;.99                                                      </td></tr>\n",
       "\t<tr><th scope=row>hvlt_trial4_correct</th><td>-0.118792939497935                                           </td><td>1.87664452865906                                             </td><td><span style=white-space:pre-wrap> 0.33         </span>       </td><td><span style=white-space:pre-wrap>-0.5 to 1.15  </span>       </td><td><span style=white-space:pre-wrap>0.4480928     </span>       </td><td><span style=white-space:pre-wrap>&gt;.99          </span>    </td><td><span style=white-space:pre-wrap> 0.07         </span>       </td><td><span style=white-space:pre-wrap>-1.05 to 1.19  </span>      </td><td><span style=white-space:pre-wrap>0.9092499     </span>       </td><td><span style=white-space:pre-wrap>&gt;.99          </span>    </td><td><span style=white-space:pre-wrap>-0.54         </span>       </td><td>-2.55 to 1.46                                                </td><td><span style=white-space:pre-wrap>0.6052289     </span>       </td><td><span style=white-space:pre-wrap>&gt;.99          </span>    </td><td><span style=white-space:pre-wrap>-0.09   </span>             </td><td>-0.89 to 0.71                                                </td><td><span style=white-space:pre-wrap>0.8307270  </span>          </td><td><span style=white-space:pre-wrap>&gt;.99              </span></td><td> 0.43                                                        </td><td><span style=white-space:pre-wrap>-0.31 to 1.16  </span>      </td><td><span style=white-space:pre-wrap>0.2671927  </span>          </td><td>&gt;.99                                                      </td></tr>\n",
       "\t<tr><th scope=row>jolo_total_correct</th><td>-0.0572173698991566                                          </td><td>1.63476718491161                                             </td><td><span style=white-space:pre-wrap>-0.41         </span>       </td><td>-1.08 to 0.26                                                </td><td><span style=white-space:pre-wrap>0.2425472     </span>       </td><td><span style=white-space:pre-wrap>&gt;.99          </span>    </td><td><span style=white-space:pre-wrap>-0.24         </span>       </td><td><span style=white-space:pre-wrap>-1.15 to 0.68  </span>      </td><td><span style=white-space:pre-wrap>0.6118516     </span>       </td><td><span style=white-space:pre-wrap>&gt;.99          </span>    </td><td><span style=white-space:pre-wrap> 0.60         </span>       </td><td>-1.04 to 2.23                                                </td><td><span style=white-space:pre-wrap>0.4817356     </span>       </td><td><span style=white-space:pre-wrap>&gt;.99          </span>    </td><td><span style=white-space:pre-wrap>-0.33   </span>             </td><td>-0.98 to 0.32                                                </td><td><span style=white-space:pre-wrap>0.3302497  </span>          </td><td><span style=white-space:pre-wrap>&gt;.99              </span></td><td>-0.08                                                        </td><td><span style=white-space:pre-wrap>-0.69 to 0.52  </span>      </td><td><span style=white-space:pre-wrap>0.7889355  </span>          </td><td>&gt;.99                                                      </td></tr>\n",
       "\t<tr><th scope=row>wais_digit_symbol_score</th><td>-0.705281196750536                                        </td><td>8.86352160919293                                          </td><td><span style=white-space:pre-wrap>-1.92         </span>    </td><td>-5.26 to 1.41                                             </td><td><span style=white-space:pre-wrap>0.26910734    </span>    </td><td><span style=white-space:pre-wrap>&gt;.99          </span> </td><td><span style=white-space:pre-wrap>-0.42         </span>    </td><td><span style=white-space:pre-wrap>-4.98 to 4.14  </span>   </td><td><span style=white-space:pre-wrap>0.85822775    </span>    </td><td><span style=white-space:pre-wrap>&gt;.99          </span> </td><td><span style=white-space:pre-wrap>-0.14         </span>    </td><td>-8.25 to 7.97                                             </td><td><span style=white-space:pre-wrap>0.97366422    </span>    </td><td><span style=white-space:pre-wrap>&gt;.99          </span> </td><td><span style=white-space:pre-wrap>-3.14   </span>          </td><td><span style=white-space:pre-wrap>-6.37 to 0.1  </span>    </td><td>0.06325934                                                </td><td><span style=white-space:pre-wrap>0.63259335246913  </span></td><td>-0.25                                                     </td><td><span style=white-space:pre-wrap>-3.24 to 2.74  </span>   </td><td>0.87113215                                                </td><td>&gt;.99                                                   </td></tr>\n",
       "\t<tr><th scope=row>letter_number_sequencing_total</th><td>-0.101208258793076                                           </td><td>1.79871267586141                                             </td><td><span style=white-space:pre-wrap>-0.16         </span>       </td><td>-0.87 to 0.55                                                </td><td><span style=white-space:pre-wrap>0.6700649     </span>       </td><td><span style=white-space:pre-wrap>&gt;.99          </span>    </td><td><span style=white-space:pre-wrap> 0.32         </span>       </td><td><span style=white-space:pre-wrap>-0.64 to 1.29  </span>      </td><td><span style=white-space:pre-wrap>0.5193234     </span>       </td><td><span style=white-space:pre-wrap>&gt;.99          </span>    </td><td><span style=white-space:pre-wrap>-0.29         </span>       </td><td>-2.02 to 1.42                                                </td><td><span style=white-space:pre-wrap>0.7425934     </span>       </td><td><span style=white-space:pre-wrap>&gt;.99          </span>    </td><td><span style=white-space:pre-wrap>-0.50   </span>             </td><td>-1.19 to 0.18                                                </td><td><span style=white-space:pre-wrap>0.1592021  </span>          </td><td><span style=white-space:pre-wrap>&gt;.99              </span></td><td>-0.04                                                        </td><td><span style=white-space:pre-wrap>-0.67 to 0.6   </span>      </td><td><span style=white-space:pre-wrap>0.9107193  </span>          </td><td>&gt;.99                                                      </td></tr>\n",
       "\t<tr><th scope=row>trailsbminusa</th><td><span style=white-space:pre-wrap>2.45446759108946   </span>  </td><td>28.7592136957992                                             </td><td><span style=white-space:pre-wrap>  4.35        </span>       </td><td>-9.34 to 17.97                                               </td><td><span style=white-space:pre-wrap>0.5427868     </span>       </td><td><span style=white-space:pre-wrap>&gt;.99          </span>    </td><td><span style=white-space:pre-wrap>  8.62        </span>       </td><td>-10.02 to 27.03                                              </td><td><span style=white-space:pre-wrap>0.3735641     </span>       </td><td><span style=white-space:pre-wrap>&gt;.99          </span>    </td><td><span style=white-space:pre-wrap>-12.43        </span>       </td><td>-45.6 to 20.99                                               </td><td><span style=white-space:pre-wrap>0.4748387     </span>       </td><td><span style=white-space:pre-wrap>&gt;.99          </span>    </td><td><span style=white-space:pre-wrap>  5.76  </span>             </td><td>-7.45 to 19.04                                               </td><td><span style=white-space:pre-wrap>0.4057346  </span>          </td><td><span style=white-space:pre-wrap>&gt;.99              </span></td><td> -1.84                                                       </td><td>-14.15 to 10.32                                              </td><td><span style=white-space:pre-wrap>0.7734172  </span>          </td><td>&gt;.99                                                      </td></tr>\n",
       "\t<tr><th scope=row>moca_score_unadjusted</th><td><span style=white-space:pre-wrap>-0.13858656822616  </span>  </td><td>1.85943892968013                                             </td><td><span style=white-space:pre-wrap>-0.34         </span>       </td><td>-1.18 to 0.49                                                </td><td><span style=white-space:pre-wrap>0.4308341     </span>       </td><td><span style=white-space:pre-wrap>&gt;.99          </span>    </td><td><span style=white-space:pre-wrap>-0.69         </span>       </td><td><span style=white-space:pre-wrap>-1.82 to 0.45  </span>      </td><td><span style=white-space:pre-wrap>0.2433682     </span>       </td><td><span style=white-space:pre-wrap>&gt;.99          </span>    </td><td><span style=white-space:pre-wrap>-1.69         </span>       </td><td>-3.73 to 0.34                                                </td><td><span style=white-space:pre-wrap>0.1119217     </span>       </td><td><span style=white-space:pre-wrap>&gt;.99          </span>    </td><td><span style=white-space:pre-wrap>-0.47   </span>             </td><td>-1.28 to 0.34                                                </td><td><span style=white-space:pre-wrap>0.2654156  </span>          </td><td><span style=white-space:pre-wrap>&gt;.99              </span></td><td> 0.05                                                        </td><td><span style=white-space:pre-wrap>-0.7 to 0.8    </span>      </td><td><span style=white-space:pre-wrap>0.9082080  </span>          </td><td>&gt;.99                                                      </td></tr>\n",
       "\t<tr><th scope=row>1</th><td>agevisit Coef.     </td><td>Intercept          </td><td>SNCA_rs3562191     </td><td>SNCA_rs3562191     </td><td>SNCA_rs3562191     </td><td>SNCA_rs3562191     </td><td>SNCA_rs3562192     </td><td>SNCA_rs3562192     </td><td>SNCA_rs3562192     </td><td>SNCA_rs3562192     </td><td>LRRK2_carrier1     </td><td>LRRK2_carrier1     </td><td>LRRK2_carrier1     </td><td>LRRK2_carrier1     </td><td>APOE_E41           </td><td>APOE_E41           </td><td>APOE_E41           </td><td>APOE_E41           </td><td>MAPT1              </td><td>MAPT1              </td><td>MAPT1              </td><td>MAPT1              </td></tr>\n",
       "</tbody>\n",
       "</table>\n"
      ],
      "text/latex": [
       "\\begin{tabular}{r|llllllllllllllllllllll}\n",
       "  & agevisit Est. & Random Intercept Std. & Coef. & CI & P & Pc & Coef. & CI & P & Pc & Coef. & CI & P & Pc & Coef. & CI & P & Pc & Coef. & CI & P & Pc\\\\\n",
       "\\hline\n",
       "\tanimals & -0.234304239125042  & 3.84702093629093    & -0.51               & -2.03 to 1.02       & 0.521162248         & >.99                & -0.55               & -2.63 to 1.54       & 0.610256340         & >.99                &  0.19               & -3.54 to 3.89       & 0.922743158         & >.99                & -2.16               & -3.64 to -0.68      & 0.005523853         & 0.0552385319237263  &  0.06               & -1.31 to 1.43       & 0.934304811         & >.99               \\\\\n",
       "\tletter\\_fluency & -0.392629795694679  & 9.24320810597092    &  0.38               & -3.21 to 3.96       & 0.83933053          & >.99                &  2.77               & -2.11 to 7.69       & 0.27787642          & >.99                & -6.95               & -15.69 to 1.77      & 0.12638914          & >.99                & -4.18               & -7.66 to -0.7       & 0.02183373          & 0.218337339256139   &  0.36               & -2.86 to 3.58       & 0.82871836          & >.99               \\\\\n",
       "\thvlt\\_total\\_recall & -0.234261085758152  & 3.65251430068027    & -0.89               & -2.35 to 0.58       & 0.2425659           & >.99                &  0.20               & -1.79 to 2.2        & 0.8485966           & >.99                & -2.25               & -5.83 to 1.3        & 0.2255540           & >.99                & -0.47               & -1.89 to 0.95       & 0.5262795           & >.99                &  0.00               & -1.3 to 1.32        & 0.9942796           & >.99               \\\\\n",
       "\thvlt\\_RDI & -0.0580567131425873 & 0.816288558118998   & -0.01               & -0.42 to 0.41       & 0.9762998           & >.99                & -0.30               & -0.86 to 0.26       & 0.3007865           & >.99                & -0.20               & -1.21 to 0.8        & 0.7002504           & >.99                & -0.14               & -0.55 to 0.26       & 0.4943290           & >.99                &  0.20               & -0.17 to 0.57       & 0.3040741           & >.99               \\\\\n",
       "\thvlt\\_trial4\\_correct & -0.118792939497935  & 1.87664452865906    &  0.33               & -0.5 to 1.15        & 0.4480928           & >.99                &  0.07               & -1.05 to 1.19       & 0.9092499           & >.99                & -0.54               & -2.55 to 1.46       & 0.6052289           & >.99                & -0.09               & -0.89 to 0.71       & 0.8307270           & >.99                &  0.43               & -0.31 to 1.16       & 0.2671927           & >.99               \\\\\n",
       "\tjolo\\_total\\_correct & -0.0572173698991566 & 1.63476718491161    & -0.41               & -1.08 to 0.26       & 0.2425472           & >.99                & -0.24               & -1.15 to 0.68       & 0.6118516           & >.99                &  0.60               & -1.04 to 2.23       & 0.4817356           & >.99                & -0.33               & -0.98 to 0.32       & 0.3302497           & >.99                & -0.08               & -0.69 to 0.52       & 0.7889355           & >.99               \\\\\n",
       "\twais\\_digit\\_symbol\\_score & -0.705281196750536  & 8.86352160919293    & -1.92               & -5.26 to 1.41       & 0.26910734          & >.99                & -0.42               & -4.98 to 4.14       & 0.85822775          & >.99                & -0.14               & -8.25 to 7.97       & 0.97366422          & >.99                & -3.14               & -6.37 to 0.1        & 0.06325934          & 0.63259335246913    & -0.25               & -3.24 to 2.74       & 0.87113215          & >.99               \\\\\n",
       "\tletter\\_number\\_sequencing\\_total & -0.101208258793076  & 1.79871267586141    & -0.16               & -0.87 to 0.55       & 0.6700649           & >.99                &  0.32               & -0.64 to 1.29       & 0.5193234           & >.99                & -0.29               & -2.02 to 1.42       & 0.7425934           & >.99                & -0.50               & -1.19 to 0.18       & 0.1592021           & >.99                & -0.04               & -0.67 to 0.6        & 0.9107193           & >.99               \\\\\n",
       "\ttrailsbminusa & 2.45446759108946    & 28.7592136957992    &   4.35              & -9.34 to 17.97      & 0.5427868           & >.99                &   8.62              & -10.02 to 27.03     & 0.3735641           & >.99                & -12.43              & -45.6 to 20.99      & 0.4748387           & >.99                &   5.76              & -7.45 to 19.04      & 0.4057346           & >.99                &  -1.84              & -14.15 to 10.32     & 0.7734172           & >.99               \\\\\n",
       "\tmoca\\_score\\_unadjusted & -0.13858656822616   & 1.85943892968013    & -0.34               & -1.18 to 0.49       & 0.4308341           & >.99                & -0.69               & -1.82 to 0.45       & 0.2433682           & >.99                & -1.69               & -3.73 to 0.34       & 0.1119217           & >.99                & -0.47               & -1.28 to 0.34       & 0.2654156           & >.99                &  0.05               & -0.7 to 0.8         & 0.9082080           & >.99               \\\\\n",
       "\t1 & agevisit Coef.       & Intercept            & SNCA\\_rs3562191     & SNCA\\_rs3562191     & SNCA\\_rs3562191     & SNCA\\_rs3562191     & SNCA\\_rs3562192     & SNCA\\_rs3562192     & SNCA\\_rs3562192     & SNCA\\_rs3562192     & LRRK2\\_carrier1     & LRRK2\\_carrier1     & LRRK2\\_carrier1     & LRRK2\\_carrier1     & APOE\\_E41           & APOE\\_E41           & APOE\\_E41           & APOE\\_E41           & MAPT1                & MAPT1                & MAPT1                & MAPT1               \\\\\n",
       "\\end{tabular}\n"
      ],
      "text/markdown": [
       "\n",
       "| <!--/--> | agevisit Est. | Random Intercept Std. | Coef. | CI | P | Pc | Coef. | CI | P | Pc | Coef. | CI | P | Pc | Coef. | CI | P | Pc | Coef. | CI | P | Pc |\n",
       "|---|---|---|---|---|---|---|---|---|---|---|---|---|---|---|---|---|---|---|---|---|---|---|\n",
       "| animals | -0.234304239125042  | 3.84702093629093    | -0.51               | -2.03 to 1.02       | 0.521162248         | >.99                | -0.55               | -2.63 to 1.54       | 0.610256340         | >.99                |  0.19               | -3.54 to 3.89       | 0.922743158         | >.99                | -2.16               | -3.64 to -0.68      | 0.005523853         | 0.0552385319237263  |  0.06               | -1.31 to 1.43       | 0.934304811         | >.99                |\n",
       "| letter_fluency | -0.392629795694679  | 9.24320810597092    |  0.38               | -3.21 to 3.96       | 0.83933053          | >.99                |  2.77               | -2.11 to 7.69       | 0.27787642          | >.99                | -6.95               | -15.69 to 1.77      | 0.12638914          | >.99                | -4.18               | -7.66 to -0.7       | 0.02183373          | 0.218337339256139   |  0.36               | -2.86 to 3.58       | 0.82871836          | >.99                |\n",
       "| hvlt_total_recall | -0.234261085758152  | 3.65251430068027    | -0.89               | -2.35 to 0.58       | 0.2425659           | >.99                |  0.20               | -1.79 to 2.2        | 0.8485966           | >.99                | -2.25               | -5.83 to 1.3        | 0.2255540           | >.99                | -0.47               | -1.89 to 0.95       | 0.5262795           | >.99                |  0.00               | -1.3 to 1.32        | 0.9942796           | >.99                |\n",
       "| hvlt_RDI | -0.0580567131425873 | 0.816288558118998   | -0.01               | -0.42 to 0.41       | 0.9762998           | >.99                | -0.30               | -0.86 to 0.26       | 0.3007865           | >.99                | -0.20               | -1.21 to 0.8        | 0.7002504           | >.99                | -0.14               | -0.55 to 0.26       | 0.4943290           | >.99                |  0.20               | -0.17 to 0.57       | 0.3040741           | >.99                |\n",
       "| hvlt_trial4_correct | -0.118792939497935  | 1.87664452865906    |  0.33               | -0.5 to 1.15        | 0.4480928           | >.99                |  0.07               | -1.05 to 1.19       | 0.9092499           | >.99                | -0.54               | -2.55 to 1.46       | 0.6052289           | >.99                | -0.09               | -0.89 to 0.71       | 0.8307270           | >.99                |  0.43               | -0.31 to 1.16       | 0.2671927           | >.99                |\n",
       "| jolo_total_correct | -0.0572173698991566 | 1.63476718491161    | -0.41               | -1.08 to 0.26       | 0.2425472           | >.99                | -0.24               | -1.15 to 0.68       | 0.6118516           | >.99                |  0.60               | -1.04 to 2.23       | 0.4817356           | >.99                | -0.33               | -0.98 to 0.32       | 0.3302497           | >.99                | -0.08               | -0.69 to 0.52       | 0.7889355           | >.99                |\n",
       "| wais_digit_symbol_score | -0.705281196750536  | 8.86352160919293    | -1.92               | -5.26 to 1.41       | 0.26910734          | >.99                | -0.42               | -4.98 to 4.14       | 0.85822775          | >.99                | -0.14               | -8.25 to 7.97       | 0.97366422          | >.99                | -3.14               | -6.37 to 0.1        | 0.06325934          | 0.63259335246913    | -0.25               | -3.24 to 2.74       | 0.87113215          | >.99                |\n",
       "| letter_number_sequencing_total | -0.101208258793076  | 1.79871267586141    | -0.16               | -0.87 to 0.55       | 0.6700649           | >.99                |  0.32               | -0.64 to 1.29       | 0.5193234           | >.99                | -0.29               | -2.02 to 1.42       | 0.7425934           | >.99                | -0.50               | -1.19 to 0.18       | 0.1592021           | >.99                | -0.04               | -0.67 to 0.6        | 0.9107193           | >.99                |\n",
       "| trailsbminusa | 2.45446759108946    | 28.7592136957992    |   4.35              | -9.34 to 17.97      | 0.5427868           | >.99                |   8.62              | -10.02 to 27.03     | 0.3735641           | >.99                | -12.43              | -45.6 to 20.99      | 0.4748387           | >.99                |   5.76              | -7.45 to 19.04      | 0.4057346           | >.99                |  -1.84              | -14.15 to 10.32     | 0.7734172           | >.99                |\n",
       "| moca_score_unadjusted | -0.13858656822616   | 1.85943892968013    | -0.34               | -1.18 to 0.49       | 0.4308341           | >.99                | -0.69               | -1.82 to 0.45       | 0.2433682           | >.99                | -1.69               | -3.73 to 0.34       | 0.1119217           | >.99                | -0.47               | -1.28 to 0.34       | 0.2654156           | >.99                |  0.05               | -0.7 to 0.8         | 0.9082080           | >.99                |\n",
       "| 1 | agevisit Coef.      | Intercept           | SNCA_rs3562191      | SNCA_rs3562191      | SNCA_rs3562191      | SNCA_rs3562191      | SNCA_rs3562192      | SNCA_rs3562192      | SNCA_rs3562192      | SNCA_rs3562192      | LRRK2_carrier1      | LRRK2_carrier1      | LRRK2_carrier1      | LRRK2_carrier1      | APOE_E41            | APOE_E41            | APOE_E41            | APOE_E41            | MAPT1               | MAPT1               | MAPT1               | MAPT1               |\n",
       "\n"
      ],
      "text/plain": [
       "                               agevisit Est.       Random Intercept Std.\n",
       "animals                        -0.234304239125042  3.84702093629093     \n",
       "letter_fluency                 -0.392629795694679  9.24320810597092     \n",
       "hvlt_total_recall              -0.234261085758152  3.65251430068027     \n",
       "hvlt_RDI                       -0.0580567131425873 0.816288558118998    \n",
       "hvlt_trial4_correct            -0.118792939497935  1.87664452865906     \n",
       "jolo_total_correct             -0.0572173698991566 1.63476718491161     \n",
       "wais_digit_symbol_score        -0.705281196750536  8.86352160919293     \n",
       "letter_number_sequencing_total -0.101208258793076  1.79871267586141     \n",
       "trailsbminusa                  2.45446759108946    28.7592136957992     \n",
       "moca_score_unadjusted          -0.13858656822616   1.85943892968013     \n",
       "1                              agevisit Coef.      Intercept            \n",
       "                               Coef.          CI             P             \n",
       "animals                        -0.51          -2.03 to 1.02  0.521162248   \n",
       "letter_fluency                  0.38          -3.21 to 3.96  0.83933053    \n",
       "hvlt_total_recall              -0.89          -2.35 to 0.58  0.2425659     \n",
       "hvlt_RDI                       -0.01          -0.42 to 0.41  0.9762998     \n",
       "hvlt_trial4_correct             0.33          -0.5 to 1.15   0.4480928     \n",
       "jolo_total_correct             -0.41          -1.08 to 0.26  0.2425472     \n",
       "wais_digit_symbol_score        -1.92          -5.26 to 1.41  0.26910734    \n",
       "letter_number_sequencing_total -0.16          -0.87 to 0.55  0.6700649     \n",
       "trailsbminusa                    4.35         -9.34 to 17.97 0.5427868     \n",
       "moca_score_unadjusted          -0.34          -1.18 to 0.49  0.4308341     \n",
       "1                              SNCA_rs3562191 SNCA_rs3562191 SNCA_rs3562191\n",
       "                               Pc             Coef.          CI             \n",
       "animals                        >.99           -0.55          -2.63 to 1.54  \n",
       "letter_fluency                 >.99            2.77          -2.11 to 7.69  \n",
       "hvlt_total_recall              >.99            0.20          -1.79 to 2.2   \n",
       "hvlt_RDI                       >.99           -0.30          -0.86 to 0.26  \n",
       "hvlt_trial4_correct            >.99            0.07          -1.05 to 1.19  \n",
       "jolo_total_correct             >.99           -0.24          -1.15 to 0.68  \n",
       "wais_digit_symbol_score        >.99           -0.42          -4.98 to 4.14  \n",
       "letter_number_sequencing_total >.99            0.32          -0.64 to 1.29  \n",
       "trailsbminusa                  >.99             8.62         -10.02 to 27.03\n",
       "moca_score_unadjusted          >.99           -0.69          -1.82 to 0.45  \n",
       "1                              SNCA_rs3562191 SNCA_rs3562192 SNCA_rs3562192 \n",
       "                               P              Pc             Coef.         \n",
       "animals                        0.610256340    >.99            0.19         \n",
       "letter_fluency                 0.27787642     >.99           -6.95         \n",
       "hvlt_total_recall              0.8485966      >.99           -2.25         \n",
       "hvlt_RDI                       0.3007865      >.99           -0.20         \n",
       "hvlt_trial4_correct            0.9092499      >.99           -0.54         \n",
       "jolo_total_correct             0.6118516      >.99            0.60         \n",
       "wais_digit_symbol_score        0.85822775     >.99           -0.14         \n",
       "letter_number_sequencing_total 0.5193234      >.99           -0.29         \n",
       "trailsbminusa                  0.3735641      >.99           -12.43        \n",
       "moca_score_unadjusted          0.2433682      >.99           -1.69         \n",
       "1                              SNCA_rs3562192 SNCA_rs3562192 LRRK2_carrier1\n",
       "                               CI             P              Pc            \n",
       "animals                        -3.54 to 3.89  0.922743158    >.99          \n",
       "letter_fluency                 -15.69 to 1.77 0.12638914     >.99          \n",
       "hvlt_total_recall              -5.83 to 1.3   0.2255540      >.99          \n",
       "hvlt_RDI                       -1.21 to 0.8   0.7002504      >.99          \n",
       "hvlt_trial4_correct            -2.55 to 1.46  0.6052289      >.99          \n",
       "jolo_total_correct             -1.04 to 2.23  0.4817356      >.99          \n",
       "wais_digit_symbol_score        -8.25 to 7.97  0.97366422     >.99          \n",
       "letter_number_sequencing_total -2.02 to 1.42  0.7425934      >.99          \n",
       "trailsbminusa                  -45.6 to 20.99 0.4748387      >.99          \n",
       "moca_score_unadjusted          -3.73 to 0.34  0.1119217      >.99          \n",
       "1                              LRRK2_carrier1 LRRK2_carrier1 LRRK2_carrier1\n",
       "                               Coef.    CI             P          \n",
       "animals                        -2.16    -3.64 to -0.68 0.005523853\n",
       "letter_fluency                 -4.18    -7.66 to -0.7  0.02183373 \n",
       "hvlt_total_recall              -0.47    -1.89 to 0.95  0.5262795  \n",
       "hvlt_RDI                       -0.14    -0.55 to 0.26  0.4943290  \n",
       "hvlt_trial4_correct            -0.09    -0.89 to 0.71  0.8307270  \n",
       "jolo_total_correct             -0.33    -0.98 to 0.32  0.3302497  \n",
       "wais_digit_symbol_score        -3.14    -6.37 to 0.1   0.06325934 \n",
       "letter_number_sequencing_total -0.50    -1.19 to 0.18  0.1592021  \n",
       "trailsbminusa                    5.76   -7.45 to 19.04 0.4057346  \n",
       "moca_score_unadjusted          -0.47    -1.28 to 0.34  0.2654156  \n",
       "1                              APOE_E41 APOE_E41       APOE_E41   \n",
       "                               Pc                 Coef.  CI             \n",
       "animals                        0.0552385319237263  0.06  -1.31 to 1.43  \n",
       "letter_fluency                 0.218337339256139   0.36  -2.86 to 3.58  \n",
       "hvlt_total_recall              >.99                0.00  -1.3 to 1.32   \n",
       "hvlt_RDI                       >.99                0.20  -0.17 to 0.57  \n",
       "hvlt_trial4_correct            >.99                0.43  -0.31 to 1.16  \n",
       "jolo_total_correct             >.99               -0.08  -0.69 to 0.52  \n",
       "wais_digit_symbol_score        0.63259335246913   -0.25  -3.24 to 2.74  \n",
       "letter_number_sequencing_total >.99               -0.04  -0.67 to 0.6   \n",
       "trailsbminusa                  >.99                -1.84 -14.15 to 10.32\n",
       "moca_score_unadjusted          >.99                0.05  -0.7 to 0.8    \n",
       "1                              APOE_E41           MAPT1  MAPT1          \n",
       "                               P           Pc   \n",
       "animals                        0.934304811 >.99 \n",
       "letter_fluency                 0.82871836  >.99 \n",
       "hvlt_total_recall              0.9942796   >.99 \n",
       "hvlt_RDI                       0.3040741   >.99 \n",
       "hvlt_trial4_correct            0.2671927   >.99 \n",
       "jolo_total_correct             0.7889355   >.99 \n",
       "wais_digit_symbol_score        0.87113215  >.99 \n",
       "letter_number_sequencing_total 0.9107193   >.99 \n",
       "trailsbminusa                  0.7734172   >.99 \n",
       "moca_score_unadjusted          0.9082080   >.99 \n",
       "1                              MAPT1       MAPT1"
      ]
     },
     "metadata": {},
     "output_type": "display_data"
    }
   ],
   "source": [
    "# Rearrange the table format and display\n",
    "\n",
    "finalTable <- c()\n",
    "for (dependent in dependents) {\n",
    "    resultTable[[dependent]][, c(1, 3:4)] <- t(apply(resultTable[[dependent]][, c(1, 3:4)], 1, round, 2))\n",
    "    resultTable[[dependent]]$CI <- apply(resultTable[[dependent]][, 3:4], 1, paste, collapse = ' to ')\n",
    "    resultTable[[dependent]]$Pc <- resultTable[[dependent]][['Pr(>|t|)']] * length(dependents)\n",
    "    resultTable[[dependent]]$Pc <- sapply(resultTable[[dependent]]$Pc, function(x) if (x > .99) x = '>.99' else x)\n",
    "\n",
    "    aa <- as.data.frame(t(c(t(resultTable[[dependent]][3:7 , c(1, 5, 2, 6)])))) #select gene (row 3 to 8)\n",
    "    colnames(aa) <- rep(c('Coef.', 'CI', 'P', 'Pc'), 5)\n",
    "    finalTable[[dependent]] <- aa\n",
    "} \n",
    "\n",
    "results <- as.data.frame(cbind(timeCoef, randomSD, do.call(rbind, finalTable)))\n",
    "gene <- t(c('agevisit Coef.', 'Intercept', rep(rownames(resultTable[[dependent]][3:7, ]), each = 4)))\n",
    "colnames(gene) <- colnames(results)\n",
    "                                          \n",
    "finalResults <- rbind(results , gene)\n",
    "finalResults\n",
    "write.csv(finalResults, file = 'rResults/section_II/clinical_result_table_femaleNonGBAOnly.csv')"
   ]
  },
  {
   "cell_type": "markdown",
   "metadata": {
    "toc-hr-collapsed": false
   },
   "source": [
    "# Section III (Predicting progression rate)"
   ]
  },
  {
   "cell_type": "code",
   "execution_count": 24,
   "metadata": {},
   "outputs": [],
   "source": [
    "comb <- function(x, ...) {\n",
    "  lapply(seq_along(x),\n",
    "    function(i) c(x[[i]], lapply(list(...), function(y) y[[i]])))\n",
    "}\n",
    "\n",
    "crossvalidateRegression <- function(data, fixed, dependent){\n",
    "    # This function predicts with typical regression (not generalized) using typical linear regression model \n",
    "    # 'data' is the training set with the \".folds\" column\n",
    "    # 'dependent' is a string with the name of the score column we want to predict\n",
    "    # 'random' is a logical; do we have random effects in the model?\n",
    "\n",
    "    # Initialize empty list for recording performances\n",
    "    r_train <- c()\n",
    "    r_test <- c()\n",
    "    p_train <- c()\n",
    "    p_test <- c()\n",
    "    k <- max(as.integer(data$.folds))\n",
    "    data <- as.data.frame(data)\n",
    "\n",
    "    # One iteration per fold\n",
    "    for (fold in 1:k){\n",
    "\n",
    "        # Create training set for this iteration\n",
    "        # Subset all the datapoints where .folds does not match the current fold\n",
    "        training_set <- data[data$.folds != fold, ]\n",
    "\n",
    "        # Create test set for this iteration\n",
    "        # Subset all the datapoints where .folds matches the current fold\n",
    "        testing_set <- data[data$.folds == fold, ]\n",
    "\n",
    "        # Train linear mixed effects model on training set\n",
    "        mod <- lm(as.formula(fixed), training_set)\n",
    "\n",
    "        # Predict the dependent variable in the testing_set with the trained model\n",
    "        y_pred_train <- predict(mod, training_set, allow.new.levels = TRUE)\n",
    "        y_pred_test <- predict(mod, testing_set, allow.new.levels = TRUE)\n",
    "\n",
    "        # Get rs\n",
    "        resultTrain <- cor.test(y_pred_train, training_set[[dependent]], method='pearson', alternative='two.sided')\n",
    "        resultTest <- cor.test(y_pred_test, testing_set[[dependent]], method='pearson', alternative='two.sided')\n",
    "        r_train[fold] <- resultTrain$estimate\n",
    "        p_train[fold] <- resultTrain$p.value\n",
    "        r_test[fold] <- resultTest$estimate\n",
    "        p_test[fold] <- resultTest$p.value\n",
    "        }\n",
    "    \n",
    "    # Return the mean of the recorded RMSEs\n",
    "    return(cbind('r_train' = r_train, 'r_test' = r_test, 'p_train'= p_train, 'p_test' = p_test))\n",
    "}"
   ]
  },
  {
   "cell_type": "markdown",
   "metadata": {},
   "source": [
    "## Create time from 0 to 2"
   ]
  },
  {
   "cell_type": "code",
   "execution_count": 102,
   "metadata": {},
   "outputs": [
    {
     "name": "stdout",
     "output_type": "stream",
     "text": [
      "[1] \">1 PRE10-0009 2\"\n",
      "[1] \">1 PWA10-0008 2\"\n",
      "[1] \">1 PWA10-0020 2\"\n",
      "[1] \">1 PWA10-0053 2\"\n",
      "[1] \">1 PWA11-0239 2\"\n",
      "[1] \">1 PWA11-0299 2\"\n",
      "[1] \">1 PWA11-0341 2\"\n",
      "[1] \">1 PWA12-0451 2\"\n",
      "[1] \">1 PWA12-0472 2\"\n",
      "[1] \">1 PWA12-0483 2\"\n",
      "[1] \">1 PWA12-0526 2\"\n"
     ]
    }
   ],
   "source": [
    "# Apart from those that start from cognitive status 0,1 and end at 2, we will also take 9999 status (those that  have 01 switching) that have as 2 dementia eventually\n",
    "additional_id <- df_vis_byID[(df_vis_byID$progression == 9999) & (df_vis_byID$cognitive_status == 2), c('summary_id')]\n",
    "\n",
    "# Only take those with progression from 1 to 2 (and 9999, which needs to be sorted out later) (0-->2 doesn't exist)\n",
    "df_progression <- df_vis_byID[(df_vis_byID$progression %in% c(12)) & (df_vis_byID$progression != 2)\n",
    "                              | (df_vis_byID$summary_id %in% additional_id), ]\n",
    "\n",
    "# Double check that there is no single observations of 0 and see how many cases with repeated dementia there are\n",
    "id_to_check <- c()\n",
    "for (id in unique(df_progression$summary_id)) {\n",
    "    # to make sure all have become demented at some point\n",
    "    if (nrow(df_progression[(df_progression$summary_id == id) & (df_progression$cognitive_status == 2), ]) == 0) {\n",
    "        print(paste('0', id))\n",
    "    # to see how many have repeated measure of dementia\n",
    "    } else if (nrow(df_progression[(df_progression$summary_id == id) & (df_progression$cognitive_status == 2), ]) > 1){\n",
    "        id_to_check <- c(id_to_check, id)\n",
    "        print(paste('>1', id, nrow(df_progression[(df_progression$summary_id == id) & (df_progression$cognitive_status == 2), ])))\n",
    "    }\n",
    "}\n",
    "# Get rid of the repeated dementia (2 more than once)\n",
    "indexs <- c()\n",
    "for (id in id_to_check) {\n",
    "    indices <- which(df_progression$summary_id == id, )\n",
    "    index <- indices[length(indices)]\n",
    "    indexs <- c(indexs, index)\n",
    "}\n",
    "\n",
    "df_progression <- df_progression[-indexs, ]"
   ]
  },
  {
   "cell_type": "code",
   "execution_count": 21,
   "metadata": {},
   "outputs": [],
   "source": [
    "# Calculate age at onset, and how long it takes until you get dementia interm of age and since onset, and add these to the features of dataset\n",
    "dementiaOnset <- c()\n",
    "dementiaAge <- c()\n",
    "ageAtOnset <- c()\n",
    "\n",
    "for (id in unique(df_progression$summary_id)) {\n",
    "    numobs <- length(df_progression[df_progression$summary_id == id, 'summary_id'])\n",
    "    \n",
    "    sinceOnset <- rep(df_progression[(df_progression$summary_id == id) & (df_progression$cognitive_status == 2), 'disease_duration_onset_calculated'][1], numobs)\n",
    "    dementiaOnset <- c(dementiaOnset, sinceOnset)\n",
    "    \n",
    "    dementiaAtAge <- rep(df_progression[(df_progression$summary_id == id) & (df_progression$cognitive_status == 2), 'agevisit'][1], numobs)\n",
    "    dementiaAge <- c(dementiaAge, dementiaAtAge)\n",
    "    \n",
    "    onsetAge <- rep(df_progression[(df_progression$summary_id == id) & (df_progression$visit == 1), 'agevisit'] - \n",
    "                    df_progression[(df_progression$summary_id == id) & (df_progression$visit == 1), 'disease_duration_onset_calculated'], numobs)\n",
    "    ageAtOnset <- c(ageAtOnset, onsetAge)\n",
    "    \n",
    "}\n",
    "\n",
    "df_progression[['dementiaOnset']] <- dementiaOnset # PD onset years til first dementia (same as onsetToDementia)\n",
    "df_progression[['dementiaAge']] <- dementiaAge # age at first known dementia\n",
    "df_progression[['ageAtOnset']] <- ageAtOnset # age at PD onset\n",
    "df_progression[['yearsTilDementia']] <- df_progression[['dementiaAge']] - df_progression[['agevisit']] # years from the visit to dementia\n",
    "\n",
    "df_progression1 <- df_progression[df_progression$visit == 1, ]\n",
    "df_progression1[['onsetToDementia']] <- df_progression1[['dementiaAge']] - df_progression1[['ageAtOnset']] # years from onset to dementia"
   ]
  },
  {
   "cell_type": "markdown",
   "metadata": {},
   "source": [
    "## Perform regression"
   ]
  },
  {
   "cell_type": "code",
   "execution_count": 27,
   "metadata": {},
   "outputs": [],
   "source": [
    "dependents <- c('onsetToDementia')\n",
    "fixed <- '~ GBA_carrier + SNCA_rs356219 + site + APOE_E4 + education + MAPT + gender + ageAtOnset'\n",
    "\n",
    "# Initialize empty list for recording performances\n",
    "kfolds <- 10\n",
    "niter <- 100\n",
    "r_test <- matrix(NA, kfolds, niter)\n",
    "r_train <- matrix(NA, kfolds, niter)\n",
    "allResults <- c()\n",
    " \n",
    "for (dependent in dependents) {\n",
    "    output <- foreach (iter = 1:niter, .combine='comb', .multicombine=TRUE, .init=list(list(), list())) %dopar% {\n",
    "        set.seed(iter)\n",
    "        fixed <- paste(dependent, fixed)\n",
    "        train_set <- fold(df_progression1, k = kfolds, id_col = 'summary_id', handle_existing_fold_cols = 'remove') #, cat_col='cognitive_status'\n",
    "        output <- crossvalidateRegression(train_set, fixed, dependent)\n",
    "        list(mean(output[, 'r_test']), mean(output[, 'r_train']))\n",
    "    }\n",
    "    names(output) <- c('r_test', 'r_train')\n",
    "    allResults[[dependent]] <- output\n",
    "}"
   ]
  },
  {
   "cell_type": "markdown",
   "metadata": {},
   "source": [
    "## Inspect P-value of the multivariate model"
   ]
  },
  {
   "cell_type": "code",
   "execution_count": 29,
   "metadata": {},
   "outputs": [
    {
     "data": {
      "text/html": [
       "<table>\n",
       "<caption>A data.frame: 8 × 6</caption>\n",
       "<thead>\n",
       "\t<tr><th></th><th scope=col>Estimate</th><th scope=col>Std. Error</th><th scope=col>t value</th><th scope=col>Pr(&gt;|t|)</th><th scope=col>CI0</th><th scope=col>CI1</th></tr>\n",
       "\t<tr><th></th><th scope=col>&lt;dbl&gt;</th><th scope=col>&lt;dbl&gt;</th><th scope=col>&lt;dbl&gt;</th><th scope=col>&lt;dbl&gt;</th><th scope=col>&lt;dbl&gt;</th><th scope=col>&lt;dbl&gt;</th></tr>\n",
       "</thead>\n",
       "<tbody>\n",
       "\t<tr><th scope=row>(Intercept)</th><td>38.03413871</td><td>4.10085913</td><td> 9.27467575</td><td>1.013814e-14</td><td>29.9964548</td><td>46.0718226</td></tr>\n",
       "\t<tr><th scope=row>GBA_carrier1</th><td>-5.41753829</td><td>2.00410891</td><td>-2.70321551</td><td>8.225194e-03</td><td>-9.3455918</td><td>-1.4894848</td></tr>\n",
       "\t<tr><th scope=row>site</th><td>-0.26080684</td><td>1.20171257</td><td>-0.21702930</td><td>8.286822e-01</td><td>-2.6161635</td><td> 2.0945498</td></tr>\n",
       "\t<tr><th scope=row>APOE_E4</th><td>-2.07835241</td><td>1.20582983</td><td>-1.72358683</td><td>8.825481e-02</td><td>-4.4417789</td><td> 0.2850741</td></tr>\n",
       "\t<tr><th scope=row>education</th><td> 0.01469942</td><td>0.19174019</td><td> 0.07666323</td><td>9.390635e-01</td><td>-0.3611113</td><td> 0.3905102</td></tr>\n",
       "\t<tr><th scope=row>MAPT1</th><td>-0.72694253</td><td>1.14551800</td><td>-0.63459721</td><td>5.273191e-01</td><td>-2.9721578</td><td> 1.5182727</td></tr>\n",
       "\t<tr><th scope=row>gender1</th><td>-1.85050356</td><td>1.25377592</td><td>-1.47594440</td><td>1.434882e-01</td><td>-4.3079044</td><td> 0.6068973</td></tr>\n",
       "\t<tr><th scope=row>ageAtOnset</th><td>-0.36554622</td><td>0.04934982</td><td>-7.40724531</td><td>7.022040e-11</td><td>-0.4622719</td><td>-0.2688206</td></tr>\n",
       "</tbody>\n",
       "</table>\n"
      ],
      "text/latex": [
       "A data.frame: 8 × 6\n",
       "\\begin{tabular}{r|llllll}\n",
       "  & Estimate & Std. Error & t value & Pr(>\\textbar{}t\\textbar{}) & CI0 & CI1\\\\\n",
       "  & <dbl> & <dbl> & <dbl> & <dbl> & <dbl> & <dbl>\\\\\n",
       "\\hline\n",
       "\t(Intercept) & 38.03413871 & 4.10085913 &  9.27467575 & 1.013814e-14 & 29.9964548 & 46.0718226\\\\\n",
       "\tGBA\\_carrier1 & -5.41753829 & 2.00410891 & -2.70321551 & 8.225194e-03 & -9.3455918 & -1.4894848\\\\\n",
       "\tsite & -0.26080684 & 1.20171257 & -0.21702930 & 8.286822e-01 & -2.6161635 &  2.0945498\\\\\n",
       "\tAPOE\\_E4 & -2.07835241 & 1.20582983 & -1.72358683 & 8.825481e-02 & -4.4417789 &  0.2850741\\\\\n",
       "\teducation &  0.01469942 & 0.19174019 &  0.07666323 & 9.390635e-01 & -0.3611113 &  0.3905102\\\\\n",
       "\tMAPT1 & -0.72694253 & 1.14551800 & -0.63459721 & 5.273191e-01 & -2.9721578 &  1.5182727\\\\\n",
       "\tgender1 & -1.85050356 & 1.25377592 & -1.47594440 & 1.434882e-01 & -4.3079044 &  0.6068973\\\\\n",
       "\tageAtOnset & -0.36554622 & 0.04934982 & -7.40724531 & 7.022040e-11 & -0.4622719 & -0.2688206\\\\\n",
       "\\end{tabular}\n"
      ],
      "text/markdown": [
       "\n",
       "A data.frame: 8 × 6\n",
       "\n",
       "| <!--/--> | Estimate &lt;dbl&gt; | Std. Error &lt;dbl&gt; | t value &lt;dbl&gt; | Pr(&gt;|t|) &lt;dbl&gt; | CI0 &lt;dbl&gt; | CI1 &lt;dbl&gt; |\n",
       "|---|---|---|---|---|---|---|\n",
       "| (Intercept) | 38.03413871 | 4.10085913 |  9.27467575 | 1.013814e-14 | 29.9964548 | 46.0718226 |\n",
       "| GBA_carrier1 | -5.41753829 | 2.00410891 | -2.70321551 | 8.225194e-03 | -9.3455918 | -1.4894848 |\n",
       "| site | -0.26080684 | 1.20171257 | -0.21702930 | 8.286822e-01 | -2.6161635 |  2.0945498 |\n",
       "| APOE_E4 | -2.07835241 | 1.20582983 | -1.72358683 | 8.825481e-02 | -4.4417789 |  0.2850741 |\n",
       "| education |  0.01469942 | 0.19174019 |  0.07666323 | 9.390635e-01 | -0.3611113 |  0.3905102 |\n",
       "| MAPT1 | -0.72694253 | 1.14551800 | -0.63459721 | 5.273191e-01 | -2.9721578 |  1.5182727 |\n",
       "| gender1 | -1.85050356 | 1.25377592 | -1.47594440 | 1.434882e-01 | -4.3079044 |  0.6068973 |\n",
       "| ageAtOnset | -0.36554622 | 0.04934982 | -7.40724531 | 7.022040e-11 | -0.4622719 | -0.2688206 |\n",
       "\n"
      ],
      "text/plain": [
       "             Estimate    Std. Error t value     Pr(>|t|)     CI0       \n",
       "(Intercept)  38.03413871 4.10085913  9.27467575 1.013814e-14 29.9964548\n",
       "GBA_carrier1 -5.41753829 2.00410891 -2.70321551 8.225194e-03 -9.3455918\n",
       "site         -0.26080684 1.20171257 -0.21702930 8.286822e-01 -2.6161635\n",
       "APOE_E4      -2.07835241 1.20582983 -1.72358683 8.825481e-02 -4.4417789\n",
       "education     0.01469942 0.19174019  0.07666323 9.390635e-01 -0.3611113\n",
       "MAPT1        -0.72694253 1.14551800 -0.63459721 5.273191e-01 -2.9721578\n",
       "gender1      -1.85050356 1.25377592 -1.47594440 1.434882e-01 -4.3079044\n",
       "ageAtOnset   -0.36554622 0.04934982 -7.40724531 7.022040e-11 -0.4622719\n",
       "             CI1       \n",
       "(Intercept)  46.0718226\n",
       "GBA_carrier1 -1.4894848\n",
       "site          2.0945498\n",
       "APOE_E4       0.2850741\n",
       "education     0.3905102\n",
       "MAPT1         1.5182727\n",
       "gender1       0.6068973\n",
       "ageAtOnset   -0.2688206"
      ]
     },
     "metadata": {},
     "output_type": "display_data"
    }
   ],
   "source": [
    "# Fit a model and get summary\n",
    "mod <- lm(onsetToDementia ~ GBA_carrier + site + APOE_E4 + education + MAPT + gender + ageAtOnset, df_progression1)\n",
    "aa <- as.data.frame(summary(mod)$coefficients)\n",
    "aa[ ,'CI0'] <- aa[, 'Estimate'] - 1.96*aa[, 'Std. Error'] \n",
    "aa[ ,'CI1'] <- aa[, 'Estimate'] + 1.96*aa[, 'Std. Error'] \n",
    "aa\n",
    "write.csv(aa, file = 'rResults/section_III/progression_result_ApoECount_withSNCA.csv')"
   ]
  },
  {
   "cell_type": "code",
   "execution_count": 109,
   "metadata": {},
   "outputs": [
    {
     "name": "stderr",
     "output_type": "stream",
     "text": [
      "Saving 6.67 x 6.67 in image\n"
     ]
    },
    {
     "data": {
      "image/png": "[encoded data removed]",
      "text/plain": [
       "plot without title"
      ]
     },
     "metadata": {},
     "output_type": "display_data"
    }
   ],
   "source": [
    "# Plot out Age at PD onset VS years to PDD (the most informing component)\n",
    "\n",
    "options(repr.plot.width = 5, repr.plot.height = 5)\n",
    "\n",
    "sp <- ggscatter(df_progression1, x = \"ageAtOnset\", y = \"onsetToDementia\", color='dimgrey', size=4,\n",
    "   add = \"reg.line\",  # Add regressin line\n",
    "   add.params = list(color = \"#ED553B\", fill = \"#F6D55C\"), # Customize reg. line\n",
    "   conf.int = TRUE # Add confidence interval\n",
    "   ) \n",
    "sp <- sp + theme_bw() + xlab('Age visit at PD onset') + ylab('Years from PD onset to PDD') + stat_cor(method = \"pearson\", label.x = 45, label.y = 27, size=6.5) +\n",
    "     theme(text = element_text(size=20))\n",
    "sp\n",
    "# ggsave(filename=paste0('figures/progression_section_III/scatter_dementia-PDage.pdf'), plot=sp)"
   ]
  },
  {
   "cell_type": "markdown",
   "metadata": {},
   "source": [
    "## Observe distribution"
   ]
  },
  {
   "cell_type": "code",
   "execution_count": 110,
   "metadata": {},
   "outputs": [
    {
     "name": "stderr",
     "output_type": "stream",
     "text": [
      "Saving 6.67 x 6.67 in image\n"
     ]
    },
    {
     "data": {
      "image/png": "[encoded data removed]",
      "text/plain": [
       "plot without title"
      ]
     },
     "metadata": {},
     "output_type": "display_data"
    }
   ],
   "source": [
    "options(repr.plot.width = 5, repr.plot.height = 5)\n",
    "\n",
    "par(mfrow=c(1,2))    # set the plotting area into a 1*2 array\n",
    "# Histogram overlaid with kernel density curve\n",
    "p <- ggplot(df_progression1, aes(x=dementiaAge)) +  #Choose dementiaAge or onsetToDementia for age at dementia onset or years from onset to dementia, respectively\n",
    "    geom_histogram(binwidth = 1, colour = \"black\", fill = \"dimgrey\", alpha = 0.5) + theme_bw() + ylab('Count') + \n",
    "    xlab('Age at PDD') + scale_y_continuous() +\n",
    "    theme(text = element_text(size=20))\n",
    "ggsave(filename=paste0('figures/progression_section_III/hist_ageAtDementia.pdf'), plot=p)\n",
    "p"
   ]
  },
  {
   "cell_type": "code",
   "execution_count": 99,
   "metadata": {},
   "outputs": [
    {
     "data": {
      "text/html": [
       "0.0102710251615966"
      ],
      "text/latex": [
       "0.0102710251615966"
      ],
      "text/markdown": [
       "0.0102710251615966"
      ],
      "text/plain": [
       "[1] 0.01027103"
      ]
     },
     "metadata": {},
     "output_type": "display_data"
    }
   ],
   "source": [
    "cor(df_progression1$dementiaAge, df_progression1$onsetToDementia)"
   ]
  },
  {
   "cell_type": "code",
   "execution_count": 94,
   "metadata": {},
   "outputs": [
    {
     "data": {
      "image/png": "[encoded data removed]",
      "text/plain": [
       "plot without title"
      ]
     },
     "metadata": {},
     "output_type": "display_data"
    }
   ],
   "source": [
    "library(ggExtra)\n",
    "p <- ggplot(df_progression1, aes(x=dementiaAge, y=onsetToDementia, color=gender)) +\n",
    "      geom_point() +\n",
    "      theme(legend.position=\"none\")\n",
    "p1 <- ggMarginal(p, type=\"histogram\")\n",
    "p1"
   ]
  }
 ],
 "metadata": {
  "kernelspec": {
   "display_name": "R",
   "language": "R",
   "name": "ir"
  },
  "language_info": {
   "codemirror_mode": "r",
   "file_extension": ".r",
   "mimetype": "text/x-r-source",
   "name": "R",
   "pygments_lexer": "r",
   "version": "3.6.1"
  }
 },
 "nbformat": 4,
 "nbformat_minor": 4
}
